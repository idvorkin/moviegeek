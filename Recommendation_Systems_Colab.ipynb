{
 "cells": [
  {
   "cell_type": "markdown",
   "metadata": {
    "id": "9EjQt_o9Xf_L"
   },
   "source": [
    "#### Copyright 2018 Google LLC."
   ]
  },
  {
   "cell_type": "code",
   "execution_count": 132,
   "metadata": {
    "id": "oXzTW-CnXf_Q"
   },
   "outputs": [
    {
     "name": "stdout",
     "output_type": "stream",
     "text": [
      "Thanks for sharing Google!\n"
     ]
    }
   ],
   "source": [
    "# Licensed under the Apache License, Version 2.0 (the \"License\");\n",
    "# you may not use this file except in compliance with the License.\n",
    "# You may obtain a copy of the License at\n",
    "#\n",
    "# https://www.apache.org/licenses/LICENSE-2.0\n",
    "#\n",
    "# Unless required by applicable law or agreed to in writing, software\n",
    "# distributed under the License is distributed on an \"AS IS\" BASIS,\n",
    "# WITHOUT WARRANTIES OR CONDITIONS OF ANY KIND, either express or implied.\n",
    "# See the License for the specific language governing permissions and\n",
    "# limitations under the License.\n",
    "print (\"Thanks for sharing Google!\") "
   ]
  },
  {
   "cell_type": "markdown",
   "metadata": {
    "id": "k0IFBGCx8_im"
   },
   "source": [
    "# Recommendation Systems with TensorFlow\n",
    "\n",
    "This Colab notebook complements the course on [Recommendation Systems](https://developers.google.com/machine-learning/recommendation/). Specifically, we'll be using matrix factorization to learn user and movie embeddings.\n",
    "\n"
   ]
  },
  {
   "cell_type": "markdown",
   "metadata": {
    "id": "Le0Z54X68_iq"
   },
   "source": [
    "# Introduction\n",
    "\n",
    "We will create a movie recommendation system based on the [MovieLens](https://movielens.org/) dataset available [here](http://grouplens.org/datasets/movielens/).  The data consists of movies ratings (on a scale of 1 to 5).\n",
    "\n",
    "## Outline\n",
    "  1. Exploring the MovieLens Data (10 minutes)\n",
    "  1. Preliminaries (25 minutes)\n",
    "  1. Training a matrix factorization model (15 minutes)\n",
    "  1. Inspecting the Embeddings (15 minutes)\n",
    "  1. Regularization in matrix factorization (15 minutes)\n",
    "  1. Softmax model training (30 minutes)\n",
    "\n",
    "## Setup\n",
    "\n",
    "Let's get started by importing the required packages."
   ]
  },
  {
   "cell_type": "code",
   "execution_count": 133,
   "metadata": {
    "colab": {
     "base_uri": "https://localhost:8080/"
    },
    "id": "8vRUh2Mzo4s1",
    "outputId": "f90a61e0-47ed-45d6-fb7c-c504afb2ae99"
   },
   "outputs": [],
   "source": [
    "# @title Imports (run this cell)\n",
    "from __future__ import print_function\n",
    "\n",
    "import numpy as np\n",
    "import pandas as pd\n",
    "import collections\n",
    "from mpl_toolkits.mplot3d import Axes3D\n",
    "from IPython import display\n",
    "from matplotlib import pyplot as plt\n",
    "import sklearn\n",
    "import sklearn.manifold\n",
    "import tensorflow.compat.v1 as tf\n",
    "import altair as alt\n",
    "from IPython.display import display\n",
    "from icecream import ic\n",
    "\n",
    "\n",
    "tf.disable_v2_behavior()\n",
    "tf.logging.set_verbosity(tf.logging.ERROR)\n",
    "\n",
    "# Add some convenience functions to Pandas DataFrame.\n",
    "pd.options.display.max_rows = 10\n",
    "pd.options.display.float_format = \"{:.3f}\".format\n",
    "\n",
    "\n",
    "def mask(df, key, function):\n",
    "    \"\"\"Returns a filtered dataframe, by applying function to key\"\"\"\n",
    "    return df[function(df[key])]\n",
    "\n",
    "\n",
    "def flatten_cols(df):\n",
    "    df.columns = [\" \".join(col).strip() for col in df.columns.values]\n",
    "    return df\n",
    "\n",
    "\n",
    "pd.DataFrame.mask = mask\n",
    "pd.DataFrame.flatten_cols = flatten_cols"
   ]
  },
  {
   "cell_type": "markdown",
   "metadata": {
    "id": "KhAVFaqCo4s5"
   },
   "source": [
    "We then download the MovieLens Data, and create DataFrames containing movies, users, and ratings."
   ]
  },
  {
   "cell_type": "code",
   "execution_count": 134,
   "metadata": {
    "colab": {
     "base_uri": "https://localhost:8080/"
    },
    "id": "O3bcgduFo4s6",
    "outputId": "dbf3d9b2-aaa5-4ee9-a0f5-e0544e49bcb4"
   },
   "outputs": [
    {
     "name": "stdout",
     "output_type": "stream",
     "text": [
      "Downloading movielens data...\n",
      "Done. Dataset contains:\n",
      "b'943 users\\n1682 items\\n100000 ratings\\n'\n"
     ]
    }
   ],
   "source": [
    "# @title Load the MovieLens data (run this cell).\n",
    "\n",
    "# Download MovieLens data.\n",
    "print(\"Downloading movielens data...\")\n",
    "from urllib.request import urlretrieve\n",
    "import zipfile\n",
    "\n",
    "urlretrieve(\n",
    "    \"http://files.grouplens.org/datasets/movielens/ml-100k.zip\", \"movielens.zip\"\n",
    ")\n",
    "zip_ref = zipfile.ZipFile(\"movielens.zip\", \"r\")\n",
    "zip_ref.extractall()\n",
    "print(\"Done. Dataset contains:\")\n",
    "print(zip_ref.read(\"ml-100k/u.info\"))\n",
    "\n",
    "# Load each data set (users, movies, and ratings).\n",
    "users_cols = [\"user_id\", \"age\", \"sex\", \"occupation\", \"zip_code\"]\n",
    "users = pd.read_csv(\"ml-100k/u.user\", sep=\"|\", names=users_cols, encoding=\"latin-1\")\n",
    "\n",
    "ratings_cols = [\"user_id\", \"movie_id\", \"rating\", \"unix_timestamp\"]\n",
    "ratings = pd.read_csv(\n",
    "    \"ml-100k/u.data\", sep=\"\\t\", names=ratings_cols, encoding=\"latin-1\"\n",
    ")\n",
    "\n",
    "# The movies file contains a binary feature for each genre.\n",
    "genre_cols = [\n",
    "    \"genre_unknown\",\n",
    "    \"Action\",\n",
    "    \"Adventure\",\n",
    "    \"Animation\",\n",
    "    \"Children\",\n",
    "    \"Comedy\",\n",
    "    \"Crime\",\n",
    "    \"Documentary\",\n",
    "    \"Drama\",\n",
    "    \"Fantasy\",\n",
    "    \"Film-Noir\",\n",
    "    \"Horror\",\n",
    "    \"Musical\",\n",
    "    \"Mystery\",\n",
    "    \"Romance\",\n",
    "    \"Sci-Fi\",\n",
    "    \"Thriller\",\n",
    "    \"War\",\n",
    "    \"Western\",\n",
    "]\n",
    "movies_cols = [\n",
    "    \"movie_id\",\n",
    "    \"title\",\n",
    "    \"release_date\",\n",
    "    \"video_release_date\",\n",
    "    \"imdb_url\",\n",
    "] + genre_cols\n",
    "movies = pd.read_csv(\"ml-100k/u.item\", sep=\"|\", names=movies_cols, encoding=\"latin-1\")\n",
    "\n",
    "# Since the ids start at 1, we shift them to start at 0.\n",
    "users[\"user_id\"] = users[\"user_id\"].apply(lambda x: str(x - 1))\n",
    "movies[\"movie_id\"] = movies[\"movie_id\"].apply(lambda x: str(x - 1))\n",
    "movies[\"year\"] = movies[\"release_date\"].apply(lambda x: str(x).split(\"-\")[-1])\n",
    "ratings[\"movie_id\"] = ratings[\"movie_id\"].apply(lambda x: str(x - 1))\n",
    "ratings[\"user_id\"] = ratings[\"user_id\"].apply(lambda x: str(x - 1))\n",
    "ratings[\"rating\"] = ratings[\"rating\"].apply(lambda x: float(x))\n",
    "\n",
    "# Compute the number of movies to which a genre is assigned.\n",
    "genre_occurences = movies[genre_cols].sum().to_dict()\n",
    "\n",
    "# Since some movies can belong to more than one genre, we create different\n",
    "# 'genre' columns as follows:\n",
    "# - all_genres: all the active genres of the movie.\n",
    "# - genre: randomly sampled from the active genres.\n",
    "def mark_genres(movies, genres):\n",
    "    def get_random_genre(gs):\n",
    "        active = [genre for genre, g in zip(genres, gs) if g == 1]\n",
    "        if len(active) == 0:\n",
    "            return \"Other\"\n",
    "        return np.random.choice(active)\n",
    "\n",
    "    def get_all_genres(gs):\n",
    "        active = [genre for genre, g in zip(genres, gs) if g == 1]\n",
    "        if len(active) == 0:\n",
    "            return \"Other\"\n",
    "        return \"-\".join(active)\n",
    "\n",
    "    movies[\"genre\"] = [\n",
    "        get_random_genre(gs) for gs in zip(*[movies[genre] for genre in genres])\n",
    "    ]\n",
    "    movies[\"all_genres\"] = [\n",
    "        get_all_genres(gs) for gs in zip(*[movies[genre] for genre in genres])\n",
    "    ]\n",
    "\n",
    "\n",
    "mark_genres(movies, genre_cols)\n",
    "\n",
    "# Create one merged DataFrame containing all the movielens data.\n",
    "movielens = ratings.merge(movies, on=\"movie_id\").merge(users, on=\"user_id\")\n",
    "\n",
    "# Utility to split the data into training and test sets.\n",
    "def split_dataframe(df, holdout_fraction=0.1):\n",
    "    \"\"\"Splits a DataFrame into training and test sets.\n",
    "    Args:\n",
    "      df: a dataframe.\n",
    "      holdout_fraction: fraction of dataframe rows to use in the test set.\n",
    "    Returns:\n",
    "      train: dataframe for training\n",
    "      test: dataframe for testing\n",
    "    \"\"\"\n",
    "    test = df.sample(frac=holdout_fraction, replace=False)\n",
    "    train = df[~df.index.isin(test.index)]\n",
    "    return train, test"
   ]
  },
  {
   "cell_type": "markdown",
   "metadata": {
    "id": "bfhOILgfo4s8"
   },
   "source": [
    "# I. Exploring the Movielens Data\n",
    "Before we dive into model building, let's inspect our MovieLens dataset. It is usually helpful to understand the statistics of the dataset."
   ]
  },
  {
   "cell_type": "markdown",
   "metadata": {
    "id": "EoB8Drqwo4s-"
   },
   "source": [
    "### Users\n",
    "We start by printing some basic statistics describing the numeric user features."
   ]
  },
  {
   "cell_type": "markdown",
   "metadata": {
    "id": "h3nZ1ARho4tC"
   },
   "source": [
    "We can also print some basic statistics describing the categorical user features"
   ]
  },
  {
   "cell_type": "code",
   "execution_count": 135,
   "metadata": {
    "colab": {
     "base_uri": "https://localhost:8080/",
     "height": 247
    },
    "id": "jFGxSmTGo4tD",
    "outputId": "145c36f0-eed5-4369-907e-794bdaca5821"
   },
   "outputs": [
    {
     "data": {
      "text/html": [
       "<div>\n",
       "<style scoped>\n",
       "    .dataframe tbody tr th:only-of-type {\n",
       "        vertical-align: middle;\n",
       "    }\n",
       "\n",
       "    .dataframe tbody tr th {\n",
       "        vertical-align: top;\n",
       "    }\n",
       "\n",
       "    .dataframe thead th {\n",
       "        text-align: right;\n",
       "    }\n",
       "</style>\n",
       "<table border=\"1\" class=\"dataframe\">\n",
       "  <thead>\n",
       "    <tr style=\"text-align: right;\">\n",
       "      <th></th>\n",
       "      <th>user_id</th>\n",
       "      <th>sex</th>\n",
       "      <th>occupation</th>\n",
       "      <th>zip_code</th>\n",
       "    </tr>\n",
       "  </thead>\n",
       "  <tbody>\n",
       "    <tr>\n",
       "      <th>count</th>\n",
       "      <td>943</td>\n",
       "      <td>943</td>\n",
       "      <td>943</td>\n",
       "      <td>943</td>\n",
       "    </tr>\n",
       "    <tr>\n",
       "      <th>unique</th>\n",
       "      <td>943</td>\n",
       "      <td>2</td>\n",
       "      <td>21</td>\n",
       "      <td>795</td>\n",
       "    </tr>\n",
       "    <tr>\n",
       "      <th>top</th>\n",
       "      <td>0</td>\n",
       "      <td>M</td>\n",
       "      <td>student</td>\n",
       "      <td>55414</td>\n",
       "    </tr>\n",
       "    <tr>\n",
       "      <th>freq</th>\n",
       "      <td>1</td>\n",
       "      <td>670</td>\n",
       "      <td>196</td>\n",
       "      <td>9</td>\n",
       "    </tr>\n",
       "  </tbody>\n",
       "</table>\n",
       "</div>"
      ],
      "text/plain": [
       "       user_id  sex occupation zip_code\n",
       "count      943  943        943      943\n",
       "unique     943    2         21      795\n",
       "top          0    M    student    55414\n",
       "freq         1  670        196        9"
      ]
     },
     "metadata": {},
     "output_type": "display_data"
    },
    {
     "data": {
      "text/html": [
       "<div>\n",
       "<style scoped>\n",
       "    .dataframe tbody tr th:only-of-type {\n",
       "        vertical-align: middle;\n",
       "    }\n",
       "\n",
       "    .dataframe tbody tr th {\n",
       "        vertical-align: top;\n",
       "    }\n",
       "\n",
       "    .dataframe thead th {\n",
       "        text-align: right;\n",
       "    }\n",
       "</style>\n",
       "<table border=\"1\" class=\"dataframe\">\n",
       "  <thead>\n",
       "    <tr style=\"text-align: right;\">\n",
       "      <th></th>\n",
       "      <th>user_id</th>\n",
       "      <th>age</th>\n",
       "      <th>sex</th>\n",
       "      <th>occupation</th>\n",
       "      <th>zip_code</th>\n",
       "    </tr>\n",
       "  </thead>\n",
       "  <tbody>\n",
       "    <tr>\n",
       "      <th>0</th>\n",
       "      <td>0</td>\n",
       "      <td>24</td>\n",
       "      <td>M</td>\n",
       "      <td>technician</td>\n",
       "      <td>85711</td>\n",
       "    </tr>\n",
       "    <tr>\n",
       "      <th>1</th>\n",
       "      <td>1</td>\n",
       "      <td>53</td>\n",
       "      <td>F</td>\n",
       "      <td>other</td>\n",
       "      <td>94043</td>\n",
       "    </tr>\n",
       "    <tr>\n",
       "      <th>2</th>\n",
       "      <td>2</td>\n",
       "      <td>23</td>\n",
       "      <td>M</td>\n",
       "      <td>writer</td>\n",
       "      <td>32067</td>\n",
       "    </tr>\n",
       "    <tr>\n",
       "      <th>3</th>\n",
       "      <td>3</td>\n",
       "      <td>24</td>\n",
       "      <td>M</td>\n",
       "      <td>technician</td>\n",
       "      <td>43537</td>\n",
       "    </tr>\n",
       "    <tr>\n",
       "      <th>4</th>\n",
       "      <td>4</td>\n",
       "      <td>33</td>\n",
       "      <td>F</td>\n",
       "      <td>other</td>\n",
       "      <td>15213</td>\n",
       "    </tr>\n",
       "    <tr>\n",
       "      <th>...</th>\n",
       "      <td>...</td>\n",
       "      <td>...</td>\n",
       "      <td>...</td>\n",
       "      <td>...</td>\n",
       "      <td>...</td>\n",
       "    </tr>\n",
       "    <tr>\n",
       "      <th>938</th>\n",
       "      <td>938</td>\n",
       "      <td>26</td>\n",
       "      <td>F</td>\n",
       "      <td>student</td>\n",
       "      <td>33319</td>\n",
       "    </tr>\n",
       "    <tr>\n",
       "      <th>939</th>\n",
       "      <td>939</td>\n",
       "      <td>32</td>\n",
       "      <td>M</td>\n",
       "      <td>administrator</td>\n",
       "      <td>02215</td>\n",
       "    </tr>\n",
       "    <tr>\n",
       "      <th>940</th>\n",
       "      <td>940</td>\n",
       "      <td>20</td>\n",
       "      <td>M</td>\n",
       "      <td>student</td>\n",
       "      <td>97229</td>\n",
       "    </tr>\n",
       "    <tr>\n",
       "      <th>941</th>\n",
       "      <td>941</td>\n",
       "      <td>48</td>\n",
       "      <td>F</td>\n",
       "      <td>librarian</td>\n",
       "      <td>78209</td>\n",
       "    </tr>\n",
       "    <tr>\n",
       "      <th>942</th>\n",
       "      <td>942</td>\n",
       "      <td>22</td>\n",
       "      <td>M</td>\n",
       "      <td>student</td>\n",
       "      <td>77841</td>\n",
       "    </tr>\n",
       "  </tbody>\n",
       "</table>\n",
       "<p>943 rows × 5 columns</p>\n",
       "</div>"
      ],
      "text/plain": [
       "    user_id  age sex     occupation zip_code\n",
       "0         0   24   M     technician    85711\n",
       "1         1   53   F          other    94043\n",
       "2         2   23   M         writer    32067\n",
       "3         3   24   M     technician    43537\n",
       "4         4   33   F          other    15213\n",
       "..      ...  ...  ..            ...      ...\n",
       "938     938   26   F        student    33319\n",
       "939     939   32   M  administrator    02215\n",
       "940     940   20   M        student    97229\n",
       "941     941   48   F      librarian    78209\n",
       "942     942   22   M        student    77841\n",
       "\n",
       "[943 rows x 5 columns]"
      ]
     },
     "metadata": {},
     "output_type": "display_data"
    },
    {
     "data": {
      "text/html": [
       "<div>\n",
       "<style scoped>\n",
       "    .dataframe tbody tr th:only-of-type {\n",
       "        vertical-align: middle;\n",
       "    }\n",
       "\n",
       "    .dataframe tbody tr th {\n",
       "        vertical-align: top;\n",
       "    }\n",
       "\n",
       "    .dataframe thead th {\n",
       "        text-align: right;\n",
       "    }\n",
       "</style>\n",
       "<table border=\"1\" class=\"dataframe\">\n",
       "  <thead>\n",
       "    <tr style=\"text-align: right;\">\n",
       "      <th></th>\n",
       "      <th>user_id</th>\n",
       "      <th>movie_id</th>\n",
       "      <th>rating</th>\n",
       "      <th>unix_timestamp</th>\n",
       "    </tr>\n",
       "  </thead>\n",
       "  <tbody>\n",
       "    <tr>\n",
       "      <th>0</th>\n",
       "      <td>195</td>\n",
       "      <td>241</td>\n",
       "      <td>3.000</td>\n",
       "      <td>881250949</td>\n",
       "    </tr>\n",
       "    <tr>\n",
       "      <th>1</th>\n",
       "      <td>185</td>\n",
       "      <td>301</td>\n",
       "      <td>3.000</td>\n",
       "      <td>891717742</td>\n",
       "    </tr>\n",
       "    <tr>\n",
       "      <th>2</th>\n",
       "      <td>21</td>\n",
       "      <td>376</td>\n",
       "      <td>1.000</td>\n",
       "      <td>878887116</td>\n",
       "    </tr>\n",
       "    <tr>\n",
       "      <th>3</th>\n",
       "      <td>243</td>\n",
       "      <td>50</td>\n",
       "      <td>2.000</td>\n",
       "      <td>880606923</td>\n",
       "    </tr>\n",
       "    <tr>\n",
       "      <th>4</th>\n",
       "      <td>165</td>\n",
       "      <td>345</td>\n",
       "      <td>1.000</td>\n",
       "      <td>886397596</td>\n",
       "    </tr>\n",
       "    <tr>\n",
       "      <th>...</th>\n",
       "      <td>...</td>\n",
       "      <td>...</td>\n",
       "      <td>...</td>\n",
       "      <td>...</td>\n",
       "    </tr>\n",
       "    <tr>\n",
       "      <th>99995</th>\n",
       "      <td>879</td>\n",
       "      <td>475</td>\n",
       "      <td>3.000</td>\n",
       "      <td>880175444</td>\n",
       "    </tr>\n",
       "    <tr>\n",
       "      <th>99996</th>\n",
       "      <td>715</td>\n",
       "      <td>203</td>\n",
       "      <td>5.000</td>\n",
       "      <td>879795543</td>\n",
       "    </tr>\n",
       "    <tr>\n",
       "      <th>99997</th>\n",
       "      <td>275</td>\n",
       "      <td>1089</td>\n",
       "      <td>1.000</td>\n",
       "      <td>874795795</td>\n",
       "    </tr>\n",
       "    <tr>\n",
       "      <th>99998</th>\n",
       "      <td>12</td>\n",
       "      <td>224</td>\n",
       "      <td>2.000</td>\n",
       "      <td>882399156</td>\n",
       "    </tr>\n",
       "    <tr>\n",
       "      <th>99999</th>\n",
       "      <td>11</td>\n",
       "      <td>202</td>\n",
       "      <td>3.000</td>\n",
       "      <td>879959583</td>\n",
       "    </tr>\n",
       "  </tbody>\n",
       "</table>\n",
       "<p>100000 rows × 4 columns</p>\n",
       "</div>"
      ],
      "text/plain": [
       "      user_id movie_id  rating  unix_timestamp\n",
       "0         195      241   3.000       881250949\n",
       "1         185      301   3.000       891717742\n",
       "2          21      376   1.000       878887116\n",
       "3         243       50   2.000       880606923\n",
       "4         165      345   1.000       886397596\n",
       "...       ...      ...     ...             ...\n",
       "99995     879      475   3.000       880175444\n",
       "99996     715      203   5.000       879795543\n",
       "99997     275     1089   1.000       874795795\n",
       "99998      12      224   2.000       882399156\n",
       "99999      11      202   3.000       879959583\n",
       "\n",
       "[100000 rows x 4 columns]"
      ]
     },
     "metadata": {},
     "output_type": "display_data"
    },
    {
     "data": {
      "text/html": [
       "<div>\n",
       "<style scoped>\n",
       "    .dataframe tbody tr th:only-of-type {\n",
       "        vertical-align: middle;\n",
       "    }\n",
       "\n",
       "    .dataframe tbody tr th {\n",
       "        vertical-align: top;\n",
       "    }\n",
       "\n",
       "    .dataframe thead th {\n",
       "        text-align: right;\n",
       "    }\n",
       "</style>\n",
       "<table border=\"1\" class=\"dataframe\">\n",
       "  <thead>\n",
       "    <tr style=\"text-align: right;\">\n",
       "      <th></th>\n",
       "      <th>movie_id</th>\n",
       "      <th>title</th>\n",
       "      <th>release_date</th>\n",
       "      <th>video_release_date</th>\n",
       "      <th>imdb_url</th>\n",
       "      <th>genre_unknown</th>\n",
       "      <th>Action</th>\n",
       "      <th>Adventure</th>\n",
       "      <th>Animation</th>\n",
       "      <th>Children</th>\n",
       "      <th>...</th>\n",
       "      <th>Musical</th>\n",
       "      <th>Mystery</th>\n",
       "      <th>Romance</th>\n",
       "      <th>Sci-Fi</th>\n",
       "      <th>Thriller</th>\n",
       "      <th>War</th>\n",
       "      <th>Western</th>\n",
       "      <th>year</th>\n",
       "      <th>genre</th>\n",
       "      <th>all_genres</th>\n",
       "    </tr>\n",
       "  </thead>\n",
       "  <tbody>\n",
       "    <tr>\n",
       "      <th>0</th>\n",
       "      <td>0</td>\n",
       "      <td>Toy Story (1995)</td>\n",
       "      <td>01-Jan-1995</td>\n",
       "      <td>NaN</td>\n",
       "      <td>http://us.imdb.com/M/title-exact?Toy%20Story%2...</td>\n",
       "      <td>0</td>\n",
       "      <td>0</td>\n",
       "      <td>0</td>\n",
       "      <td>1</td>\n",
       "      <td>1</td>\n",
       "      <td>...</td>\n",
       "      <td>0</td>\n",
       "      <td>0</td>\n",
       "      <td>0</td>\n",
       "      <td>0</td>\n",
       "      <td>0</td>\n",
       "      <td>0</td>\n",
       "      <td>0</td>\n",
       "      <td>1995</td>\n",
       "      <td>Children</td>\n",
       "      <td>Animation-Children-Comedy</td>\n",
       "    </tr>\n",
       "    <tr>\n",
       "      <th>1</th>\n",
       "      <td>1</td>\n",
       "      <td>GoldenEye (1995)</td>\n",
       "      <td>01-Jan-1995</td>\n",
       "      <td>NaN</td>\n",
       "      <td>http://us.imdb.com/M/title-exact?GoldenEye%20(...</td>\n",
       "      <td>0</td>\n",
       "      <td>1</td>\n",
       "      <td>1</td>\n",
       "      <td>0</td>\n",
       "      <td>0</td>\n",
       "      <td>...</td>\n",
       "      <td>0</td>\n",
       "      <td>0</td>\n",
       "      <td>0</td>\n",
       "      <td>0</td>\n",
       "      <td>1</td>\n",
       "      <td>0</td>\n",
       "      <td>0</td>\n",
       "      <td>1995</td>\n",
       "      <td>Action</td>\n",
       "      <td>Action-Adventure-Thriller</td>\n",
       "    </tr>\n",
       "    <tr>\n",
       "      <th>2</th>\n",
       "      <td>2</td>\n",
       "      <td>Four Rooms (1995)</td>\n",
       "      <td>01-Jan-1995</td>\n",
       "      <td>NaN</td>\n",
       "      <td>http://us.imdb.com/M/title-exact?Four%20Rooms%...</td>\n",
       "      <td>0</td>\n",
       "      <td>0</td>\n",
       "      <td>0</td>\n",
       "      <td>0</td>\n",
       "      <td>0</td>\n",
       "      <td>...</td>\n",
       "      <td>0</td>\n",
       "      <td>0</td>\n",
       "      <td>0</td>\n",
       "      <td>0</td>\n",
       "      <td>1</td>\n",
       "      <td>0</td>\n",
       "      <td>0</td>\n",
       "      <td>1995</td>\n",
       "      <td>Thriller</td>\n",
       "      <td>Thriller</td>\n",
       "    </tr>\n",
       "    <tr>\n",
       "      <th>3</th>\n",
       "      <td>3</td>\n",
       "      <td>Get Shorty (1995)</td>\n",
       "      <td>01-Jan-1995</td>\n",
       "      <td>NaN</td>\n",
       "      <td>http://us.imdb.com/M/title-exact?Get%20Shorty%...</td>\n",
       "      <td>0</td>\n",
       "      <td>1</td>\n",
       "      <td>0</td>\n",
       "      <td>0</td>\n",
       "      <td>0</td>\n",
       "      <td>...</td>\n",
       "      <td>0</td>\n",
       "      <td>0</td>\n",
       "      <td>0</td>\n",
       "      <td>0</td>\n",
       "      <td>0</td>\n",
       "      <td>0</td>\n",
       "      <td>0</td>\n",
       "      <td>1995</td>\n",
       "      <td>Drama</td>\n",
       "      <td>Action-Comedy-Drama</td>\n",
       "    </tr>\n",
       "    <tr>\n",
       "      <th>4</th>\n",
       "      <td>4</td>\n",
       "      <td>Copycat (1995)</td>\n",
       "      <td>01-Jan-1995</td>\n",
       "      <td>NaN</td>\n",
       "      <td>http://us.imdb.com/M/title-exact?Copycat%20(1995)</td>\n",
       "      <td>0</td>\n",
       "      <td>0</td>\n",
       "      <td>0</td>\n",
       "      <td>0</td>\n",
       "      <td>0</td>\n",
       "      <td>...</td>\n",
       "      <td>0</td>\n",
       "      <td>0</td>\n",
       "      <td>0</td>\n",
       "      <td>0</td>\n",
       "      <td>1</td>\n",
       "      <td>0</td>\n",
       "      <td>0</td>\n",
       "      <td>1995</td>\n",
       "      <td>Crime</td>\n",
       "      <td>Crime-Drama-Thriller</td>\n",
       "    </tr>\n",
       "    <tr>\n",
       "      <th>...</th>\n",
       "      <td>...</td>\n",
       "      <td>...</td>\n",
       "      <td>...</td>\n",
       "      <td>...</td>\n",
       "      <td>...</td>\n",
       "      <td>...</td>\n",
       "      <td>...</td>\n",
       "      <td>...</td>\n",
       "      <td>...</td>\n",
       "      <td>...</td>\n",
       "      <td>...</td>\n",
       "      <td>...</td>\n",
       "      <td>...</td>\n",
       "      <td>...</td>\n",
       "      <td>...</td>\n",
       "      <td>...</td>\n",
       "      <td>...</td>\n",
       "      <td>...</td>\n",
       "      <td>...</td>\n",
       "      <td>...</td>\n",
       "      <td>...</td>\n",
       "    </tr>\n",
       "    <tr>\n",
       "      <th>1677</th>\n",
       "      <td>1677</td>\n",
       "      <td>Mat' i syn (1997)</td>\n",
       "      <td>06-Feb-1998</td>\n",
       "      <td>NaN</td>\n",
       "      <td>http://us.imdb.com/M/title-exact?Mat%27+i+syn+...</td>\n",
       "      <td>0</td>\n",
       "      <td>0</td>\n",
       "      <td>0</td>\n",
       "      <td>0</td>\n",
       "      <td>0</td>\n",
       "      <td>...</td>\n",
       "      <td>0</td>\n",
       "      <td>0</td>\n",
       "      <td>0</td>\n",
       "      <td>0</td>\n",
       "      <td>0</td>\n",
       "      <td>0</td>\n",
       "      <td>0</td>\n",
       "      <td>1998</td>\n",
       "      <td>Drama</td>\n",
       "      <td>Drama</td>\n",
       "    </tr>\n",
       "    <tr>\n",
       "      <th>1678</th>\n",
       "      <td>1678</td>\n",
       "      <td>B. Monkey (1998)</td>\n",
       "      <td>06-Feb-1998</td>\n",
       "      <td>NaN</td>\n",
       "      <td>http://us.imdb.com/M/title-exact?B%2E+Monkey+(...</td>\n",
       "      <td>0</td>\n",
       "      <td>0</td>\n",
       "      <td>0</td>\n",
       "      <td>0</td>\n",
       "      <td>0</td>\n",
       "      <td>...</td>\n",
       "      <td>0</td>\n",
       "      <td>0</td>\n",
       "      <td>1</td>\n",
       "      <td>0</td>\n",
       "      <td>1</td>\n",
       "      <td>0</td>\n",
       "      <td>0</td>\n",
       "      <td>1998</td>\n",
       "      <td>Thriller</td>\n",
       "      <td>Romance-Thriller</td>\n",
       "    </tr>\n",
       "    <tr>\n",
       "      <th>1679</th>\n",
       "      <td>1679</td>\n",
       "      <td>Sliding Doors (1998)</td>\n",
       "      <td>01-Jan-1998</td>\n",
       "      <td>NaN</td>\n",
       "      <td>http://us.imdb.com/Title?Sliding+Doors+(1998)</td>\n",
       "      <td>0</td>\n",
       "      <td>0</td>\n",
       "      <td>0</td>\n",
       "      <td>0</td>\n",
       "      <td>0</td>\n",
       "      <td>...</td>\n",
       "      <td>0</td>\n",
       "      <td>0</td>\n",
       "      <td>1</td>\n",
       "      <td>0</td>\n",
       "      <td>0</td>\n",
       "      <td>0</td>\n",
       "      <td>0</td>\n",
       "      <td>1998</td>\n",
       "      <td>Romance</td>\n",
       "      <td>Drama-Romance</td>\n",
       "    </tr>\n",
       "    <tr>\n",
       "      <th>1680</th>\n",
       "      <td>1680</td>\n",
       "      <td>You So Crazy (1994)</td>\n",
       "      <td>01-Jan-1994</td>\n",
       "      <td>NaN</td>\n",
       "      <td>http://us.imdb.com/M/title-exact?You%20So%20Cr...</td>\n",
       "      <td>0</td>\n",
       "      <td>0</td>\n",
       "      <td>0</td>\n",
       "      <td>0</td>\n",
       "      <td>0</td>\n",
       "      <td>...</td>\n",
       "      <td>0</td>\n",
       "      <td>0</td>\n",
       "      <td>0</td>\n",
       "      <td>0</td>\n",
       "      <td>0</td>\n",
       "      <td>0</td>\n",
       "      <td>0</td>\n",
       "      <td>1994</td>\n",
       "      <td>Comedy</td>\n",
       "      <td>Comedy</td>\n",
       "    </tr>\n",
       "    <tr>\n",
       "      <th>1681</th>\n",
       "      <td>1681</td>\n",
       "      <td>Scream of Stone (Schrei aus Stein) (1991)</td>\n",
       "      <td>08-Mar-1996</td>\n",
       "      <td>NaN</td>\n",
       "      <td>http://us.imdb.com/M/title-exact?Schrei%20aus%...</td>\n",
       "      <td>0</td>\n",
       "      <td>0</td>\n",
       "      <td>0</td>\n",
       "      <td>0</td>\n",
       "      <td>0</td>\n",
       "      <td>...</td>\n",
       "      <td>0</td>\n",
       "      <td>0</td>\n",
       "      <td>0</td>\n",
       "      <td>0</td>\n",
       "      <td>0</td>\n",
       "      <td>0</td>\n",
       "      <td>0</td>\n",
       "      <td>1996</td>\n",
       "      <td>Drama</td>\n",
       "      <td>Drama</td>\n",
       "    </tr>\n",
       "  </tbody>\n",
       "</table>\n",
       "<p>1682 rows × 27 columns</p>\n",
       "</div>"
      ],
      "text/plain": [
       "     movie_id                                      title release_date  \\\n",
       "0           0                           Toy Story (1995)  01-Jan-1995   \n",
       "1           1                           GoldenEye (1995)  01-Jan-1995   \n",
       "2           2                          Four Rooms (1995)  01-Jan-1995   \n",
       "3           3                          Get Shorty (1995)  01-Jan-1995   \n",
       "4           4                             Copycat (1995)  01-Jan-1995   \n",
       "...       ...                                        ...          ...   \n",
       "1677     1677                          Mat' i syn (1997)  06-Feb-1998   \n",
       "1678     1678                           B. Monkey (1998)  06-Feb-1998   \n",
       "1679     1679                       Sliding Doors (1998)  01-Jan-1998   \n",
       "1680     1680                        You So Crazy (1994)  01-Jan-1994   \n",
       "1681     1681  Scream of Stone (Schrei aus Stein) (1991)  08-Mar-1996   \n",
       "\n",
       "      video_release_date                                           imdb_url  \\\n",
       "0                    NaN  http://us.imdb.com/M/title-exact?Toy%20Story%2...   \n",
       "1                    NaN  http://us.imdb.com/M/title-exact?GoldenEye%20(...   \n",
       "2                    NaN  http://us.imdb.com/M/title-exact?Four%20Rooms%...   \n",
       "3                    NaN  http://us.imdb.com/M/title-exact?Get%20Shorty%...   \n",
       "4                    NaN  http://us.imdb.com/M/title-exact?Copycat%20(1995)   \n",
       "...                  ...                                                ...   \n",
       "1677                 NaN  http://us.imdb.com/M/title-exact?Mat%27+i+syn+...   \n",
       "1678                 NaN  http://us.imdb.com/M/title-exact?B%2E+Monkey+(...   \n",
       "1679                 NaN      http://us.imdb.com/Title?Sliding+Doors+(1998)   \n",
       "1680                 NaN  http://us.imdb.com/M/title-exact?You%20So%20Cr...   \n",
       "1681                 NaN  http://us.imdb.com/M/title-exact?Schrei%20aus%...   \n",
       "\n",
       "      genre_unknown  Action  Adventure  Animation  Children  ...  Musical  \\\n",
       "0                 0       0          0          1         1  ...        0   \n",
       "1                 0       1          1          0         0  ...        0   \n",
       "2                 0       0          0          0         0  ...        0   \n",
       "3                 0       1          0          0         0  ...        0   \n",
       "4                 0       0          0          0         0  ...        0   \n",
       "...             ...     ...        ...        ...       ...  ...      ...   \n",
       "1677              0       0          0          0         0  ...        0   \n",
       "1678              0       0          0          0         0  ...        0   \n",
       "1679              0       0          0          0         0  ...        0   \n",
       "1680              0       0          0          0         0  ...        0   \n",
       "1681              0       0          0          0         0  ...        0   \n",
       "\n",
       "      Mystery  Romance  Sci-Fi  Thriller  War  Western  year     genre  \\\n",
       "0           0        0       0         0    0        0  1995  Children   \n",
       "1           0        0       0         1    0        0  1995    Action   \n",
       "2           0        0       0         1    0        0  1995  Thriller   \n",
       "3           0        0       0         0    0        0  1995     Drama   \n",
       "4           0        0       0         1    0        0  1995     Crime   \n",
       "...       ...      ...     ...       ...  ...      ...   ...       ...   \n",
       "1677        0        0       0         0    0        0  1998     Drama   \n",
       "1678        0        1       0         1    0        0  1998  Thriller   \n",
       "1679        0        1       0         0    0        0  1998   Romance   \n",
       "1680        0        0       0         0    0        0  1994    Comedy   \n",
       "1681        0        0       0         0    0        0  1996     Drama   \n",
       "\n",
       "                     all_genres  \n",
       "0     Animation-Children-Comedy  \n",
       "1     Action-Adventure-Thriller  \n",
       "2                      Thriller  \n",
       "3           Action-Comedy-Drama  \n",
       "4          Crime-Drama-Thriller  \n",
       "...                         ...  \n",
       "1677                      Drama  \n",
       "1678           Romance-Thriller  \n",
       "1679              Drama-Romance  \n",
       "1680                     Comedy  \n",
       "1681                      Drama  \n",
       "\n",
       "[1682 rows x 27 columns]"
      ]
     },
     "metadata": {},
     "output_type": "display_data"
    }
   ],
   "source": [
    "display(users.describe(include=[object]))\n",
    "display(users)\n",
    "display(ratings)\n",
    "display(movies)"
   ]
  },
  {
   "cell_type": "code",
   "execution_count": 136,
   "metadata": {
    "id": "k-IRqWato4s-"
   },
   "outputs": [
    {
     "ename": "SyntaxError",
     "evalue": "incomplete input (1933932071.py, line 2)",
     "output_type": "error",
     "traceback": [
      "\u001b[0;36m  Cell \u001b[0;32mIn[136], line 2\u001b[0;36m\u001b[0m\n\u001b[0;31m    display(rating.describe(\u001b[0m\n\u001b[0m                            ^\u001b[0m\n\u001b[0;31mSyntaxError\u001b[0m\u001b[0;31m:\u001b[0m incomplete input\n"
     ]
    }
   ],
   "source": [
    "users.describe()\n",
    "display(rating.describe("
   ]
  },
  {
   "cell_type": "code",
   "execution_count": 137,
   "metadata": {},
   "outputs": [
    {
     "name": "stdout",
     "output_type": "stream",
     "text": [
      "What users have rated the most movies\n"
     ]
    },
    {
     "name": "stderr",
     "output_type": "stream",
     "text": [
      "/Users/idvorkin/homebrew/lib/python3.10/site-packages/altair/utils/core.py:317: FutureWarning: iteritems is deprecated and will be removed in a future version. Use .items instead.\n",
      "  for col_name, dtype in df.dtypes.iteritems():\n"
     ]
    },
    {
     "data": {
      "text/html": [
       "\n",
       "<div id=\"altair-viz-a937f2bc66d44645b53034bd8e32deef\"></div>\n",
       "<script type=\"text/javascript\">\n",
       "  var VEGA_DEBUG = (typeof VEGA_DEBUG == \"undefined\") ? {} : VEGA_DEBUG;\n",
       "  (function(spec, embedOpt){\n",
       "    let outputDiv = document.currentScript.previousElementSibling;\n",
       "    if (outputDiv.id !== \"altair-viz-a937f2bc66d44645b53034bd8e32deef\") {\n",
       "      outputDiv = document.getElementById(\"altair-viz-a937f2bc66d44645b53034bd8e32deef\");\n",
       "    }\n",
       "    const paths = {\n",
       "      \"vega\": \"https://cdn.jsdelivr.net/npm//vega@5?noext\",\n",
       "      \"vega-lib\": \"https://cdn.jsdelivr.net/npm//vega-lib?noext\",\n",
       "      \"vega-lite\": \"https://cdn.jsdelivr.net/npm//vega-lite@4.17.0?noext\",\n",
       "      \"vega-embed\": \"https://cdn.jsdelivr.net/npm//vega-embed@6?noext\",\n",
       "    };\n",
       "\n",
       "    function maybeLoadScript(lib, version) {\n",
       "      var key = `${lib.replace(\"-\", \"\")}_version`;\n",
       "      return (VEGA_DEBUG[key] == version) ?\n",
       "        Promise.resolve(paths[lib]) :\n",
       "        new Promise(function(resolve, reject) {\n",
       "          var s = document.createElement('script');\n",
       "          document.getElementsByTagName(\"head\")[0].appendChild(s);\n",
       "          s.async = true;\n",
       "          s.onload = () => {\n",
       "            VEGA_DEBUG[key] = version;\n",
       "            return resolve(paths[lib]);\n",
       "          };\n",
       "          s.onerror = () => reject(`Error loading script: ${paths[lib]}`);\n",
       "          s.src = paths[lib];\n",
       "        });\n",
       "    }\n",
       "\n",
       "    function showError(err) {\n",
       "      outputDiv.innerHTML = `<div class=\"error\" style=\"color:red;\">${err}</div>`;\n",
       "      throw err;\n",
       "    }\n",
       "\n",
       "    function displayChart(vegaEmbed) {\n",
       "      vegaEmbed(outputDiv, spec, embedOpt)\n",
       "        .catch(err => showError(`Javascript Error: ${err.message}<br>This usually means there's a typo in your chart specification. See the javascript console for the full traceback.`));\n",
       "    }\n",
       "\n",
       "    if(typeof define === \"function\" && define.amd) {\n",
       "      requirejs.config({paths});\n",
       "      require([\"vega-embed\"], displayChart, err => showError(`Error loading script: ${err.message}`));\n",
       "    } else {\n",
       "      maybeLoadScript(\"vega\", \"5\")\n",
       "        .then(() => maybeLoadScript(\"vega-lite\", \"4.17.0\"))\n",
       "        .then(() => maybeLoadScript(\"vega-embed\", \"6\"))\n",
       "        .catch(showError)\n",
       "        .then(() => displayChart(vegaEmbed));\n",
       "    }\n",
       "  })({\"config\": {\"view\": {\"continuousWidth\": 400, \"continuousHeight\": 300}}, \"data\": {\"name\": \"data-1a363a5cda2b7e58838e212c942519d6\"}, \"mark\": \"bar\", \"encoding\": {\"x\": {\"field\": \"rating\", \"type\": \"quantitative\"}, \"y\": {\"field\": \"occupation\", \"type\": \"ordinal\"}}, \"$schema\": \"https://vega.github.io/schema/vega-lite/v4.17.0.json\", \"datasets\": {\"data-1a363a5cda2b7e58838e212c942519d6\": [{\"occupation\": \"administrator\", \"rating\": 3.6356464768017114}, {\"occupation\": \"artist\", \"rating\": 3.653379549393414}, {\"occupation\": \"doctor\", \"rating\": 3.688888888888889}, {\"occupation\": \"educator\", \"rating\": 3.6706206312221985}, {\"occupation\": \"engineer\", \"rating\": 3.541406727828746}, {\"occupation\": \"entertainment\", \"rating\": 3.4410501193317424}, {\"occupation\": \"executive\", \"rating\": 3.3491037320011756}, {\"occupation\": \"healthcare\", \"rating\": 2.896219686162625}, {\"occupation\": \"homemaker\", \"rating\": 3.301003344481605}, {\"occupation\": \"lawyer\", \"rating\": 3.7353159851301116}, {\"occupation\": \"librarian\", \"rating\": 3.560781338896264}, {\"occupation\": \"marketing\", \"rating\": 3.4856410256410255}, {\"occupation\": \"none\", \"rating\": 3.779134295227525}, {\"occupation\": \"other\", \"rating\": 3.5523773797242804}, {\"occupation\": \"programmer\", \"rating\": 3.5682604794257147}, {\"occupation\": \"retired\", \"rating\": 3.4667495338719703}, {\"occupation\": \"salesman\", \"rating\": 3.582943925233645}, {\"occupation\": \"scientist\", \"rating\": 3.611273080660836}, {\"occupation\": \"student\", \"rating\": 3.5151432345038027}, {\"occupation\": \"technician\", \"rating\": 3.5322304620650313}, {\"occupation\": \"writer\", \"rating\": 3.3757225433526012}]}}, {\"mode\": \"vega-lite\"});\n",
       "</script>"
      ],
      "text/plain": [
       "alt.Chart(...)"
      ]
     },
     "metadata": {},
     "output_type": "display_data"
    },
    {
     "data": {
      "text/html": [
       "\n",
       "<div id=\"altair-viz-96e7ba96023349bda7393aa610ec9325\"></div>\n",
       "<script type=\"text/javascript\">\n",
       "  var VEGA_DEBUG = (typeof VEGA_DEBUG == \"undefined\") ? {} : VEGA_DEBUG;\n",
       "  (function(spec, embedOpt){\n",
       "    let outputDiv = document.currentScript.previousElementSibling;\n",
       "    if (outputDiv.id !== \"altair-viz-96e7ba96023349bda7393aa610ec9325\") {\n",
       "      outputDiv = document.getElementById(\"altair-viz-96e7ba96023349bda7393aa610ec9325\");\n",
       "    }\n",
       "    const paths = {\n",
       "      \"vega\": \"https://cdn.jsdelivr.net/npm//vega@5?noext\",\n",
       "      \"vega-lib\": \"https://cdn.jsdelivr.net/npm//vega-lib?noext\",\n",
       "      \"vega-lite\": \"https://cdn.jsdelivr.net/npm//vega-lite@4.17.0?noext\",\n",
       "      \"vega-embed\": \"https://cdn.jsdelivr.net/npm//vega-embed@6?noext\",\n",
       "    };\n",
       "\n",
       "    function maybeLoadScript(lib, version) {\n",
       "      var key = `${lib.replace(\"-\", \"\")}_version`;\n",
       "      return (VEGA_DEBUG[key] == version) ?\n",
       "        Promise.resolve(paths[lib]) :\n",
       "        new Promise(function(resolve, reject) {\n",
       "          var s = document.createElement('script');\n",
       "          document.getElementsByTagName(\"head\")[0].appendChild(s);\n",
       "          s.async = true;\n",
       "          s.onload = () => {\n",
       "            VEGA_DEBUG[key] = version;\n",
       "            return resolve(paths[lib]);\n",
       "          };\n",
       "          s.onerror = () => reject(`Error loading script: ${paths[lib]}`);\n",
       "          s.src = paths[lib];\n",
       "        });\n",
       "    }\n",
       "\n",
       "    function showError(err) {\n",
       "      outputDiv.innerHTML = `<div class=\"error\" style=\"color:red;\">${err}</div>`;\n",
       "      throw err;\n",
       "    }\n",
       "\n",
       "    function displayChart(vegaEmbed) {\n",
       "      vegaEmbed(outputDiv, spec, embedOpt)\n",
       "        .catch(err => showError(`Javascript Error: ${err.message}<br>This usually means there's a typo in your chart specification. See the javascript console for the full traceback.`));\n",
       "    }\n",
       "\n",
       "    if(typeof define === \"function\" && define.amd) {\n",
       "      requirejs.config({paths});\n",
       "      require([\"vega-embed\"], displayChart, err => showError(`Error loading script: ${err.message}`));\n",
       "    } else {\n",
       "      maybeLoadScript(\"vega\", \"5\")\n",
       "        .then(() => maybeLoadScript(\"vega-lite\", \"4.17.0\"))\n",
       "        .then(() => maybeLoadScript(\"vega-embed\", \"6\"))\n",
       "        .catch(showError)\n",
       "        .then(() => displayChart(vegaEmbed));\n",
       "    }\n",
       "  })({\"config\": {\"view\": {\"continuousWidth\": 400, \"continuousHeight\": 300}}, \"data\": {\"name\": \"data-7eae3af9a0c504cc904d00335298b42a\"}, \"mark\": \"bar\", \"encoding\": {\"color\": {\"field\": \"rating\", \"scale\": {\"scheme\": \"category20\"}, \"type\": \"ordinal\"}, \"x\": {\"aggregate\": \"sum\", \"field\": \"value\", \"type\": \"quantitative\"}, \"y\": {\"field\": \"occupation\", \"type\": \"ordinal\"}}, \"$schema\": \"https://vega.github.io/schema/vega-lite/v4.17.0.json\", \"datasets\": {\"data-7eae3af9a0c504cc904d00335298b42a\": [{\"occupation\": \"administrator\", \"rating\": 1.0, \"value\": 0.04639657708249766}, {\"occupation\": \"artist\", \"rating\": 1.0, \"value\": 0.06412478336221837}, {\"occupation\": \"doctor\", \"rating\": 1.0, \"value\": 0.024074074074074074}, {\"occupation\": \"educator\", \"rating\": 1.0, \"value\": 0.04871849184494811}, {\"occupation\": \"engineer\", \"rating\": 1.0, \"value\": 0.0436697247706422}, {\"occupation\": \"entertainment\", \"rating\": 1.0, \"value\": 0.07732696897374702}, {\"occupation\": \"executive\", \"rating\": 1.0, \"value\": 0.1431090214516603}, {\"occupation\": \"healthcare\", \"rating\": 1.0, \"value\": 0.2029243937232525}, {\"occupation\": \"homemaker\", \"rating\": 1.0, \"value\": 0.0903010033444816}, {\"occupation\": \"lawyer\", \"rating\": 1.0, \"value\": 0.046096654275092935}, {\"occupation\": \"librarian\", \"rating\": 1.0, \"value\": 0.040584107718566284}, {\"occupation\": \"marketing\", \"rating\": 1.0, \"value\": 0.045641025641025644}, {\"occupation\": \"none\", \"rating\": 1.0, \"value\": 0.03995560488346282}, {\"occupation\": \"other\", \"rating\": 1.0, \"value\": 0.051861577417237174}, {\"occupation\": \"programmer\", \"rating\": 1.0, \"value\": 0.0579412895782592}, {\"occupation\": \"retired\", \"rating\": 1.0, \"value\": 0.02983219390926041}, {\"occupation\": \"salesman\", \"rating\": 1.0, \"value\": 0.08177570093457943}, {\"occupation\": \"scientist\", \"rating\": 1.0, \"value\": 0.034499514091350825}, {\"occupation\": \"student\", \"rating\": 1.0, \"value\": 0.060481850890376644}, {\"occupation\": \"technician\", \"rating\": 1.0, \"value\": 0.04420992584141472}, {\"occupation\": \"writer\", \"rating\": 1.0, \"value\": 0.08345375722543352}, {\"occupation\": \"administrator\", \"rating\": 2.0, \"value\": 0.09854258590720684}, {\"occupation\": \"artist\", \"rating\": 2.0, \"value\": 0.10181975736568458}, {\"occupation\": \"doctor\", \"rating\": 2.0, \"value\": 0.08703703703703704}, {\"occupation\": \"educator\", \"rating\": 2.0, \"value\": 0.08504554119889854}, {\"occupation\": \"engineer\", \"rating\": 2.0, \"value\": 0.1129051987767584}, {\"occupation\": \"entertainment\", \"rating\": 2.0, \"value\": 0.13078758949880667}, {\"occupation\": \"executive\", \"rating\": 2.0, \"value\": 0.11137231854246253}, {\"occupation\": \"healthcare\", \"rating\": 2.0, \"value\": 0.15263908701854492}, {\"occupation\": \"homemaker\", \"rating\": 2.0, \"value\": 0.15384615384615385}, {\"occupation\": \"lawyer\", \"rating\": 2.0, \"value\": 0.09293680297397769}, {\"occupation\": \"librarian\", \"rating\": 2.0, \"value\": 0.1124597003603262}, {\"occupation\": \"marketing\", \"rating\": 2.0, \"value\": 0.13025641025641024}, {\"occupation\": \"none\", \"rating\": 2.0, \"value\": 0.08102108768035517}, {\"occupation\": \"other\", \"rating\": 2.0, \"value\": 0.11535215230235393}, {\"occupation\": \"programmer\", \"rating\": 2.0, \"value\": 0.11024227663120113}, {\"occupation\": \"retired\", \"rating\": 2.0, \"value\": 0.12678682411435674}, {\"occupation\": \"salesman\", \"rating\": 2.0, \"value\": 0.08644859813084112}, {\"occupation\": \"scientist\", \"rating\": 2.0, \"value\": 0.09523809523809523}, {\"occupation\": \"student\", \"rating\": 2.0, \"value\": 0.12100924534317074}, {\"occupation\": \"technician\", \"rating\": 2.0, \"value\": 0.11380490587564175}, {\"occupation\": \"writer\", \"rating\": 2.0, \"value\": 0.15046965317919075}, {\"occupation\": \"administrator\", \"rating\": 3.0, \"value\": 0.2666131835806926}, {\"occupation\": \"artist\", \"rating\": 3.0, \"value\": 0.2339688041594454}, {\"occupation\": \"doctor\", \"rating\": 3.0, \"value\": 0.2611111111111111}, {\"occupation\": \"educator\", \"rating\": 3.0, \"value\": 0.25132387206100404}, {\"occupation\": \"engineer\", \"rating\": 3.0, \"value\": 0.30434250764525994}, {\"occupation\": \"entertainment\", \"rating\": 3.0, \"value\": 0.27923627684964203}, {\"occupation\": \"executive\", \"rating\": 3.0, \"value\": 0.22039377020276227}, {\"occupation\": \"healthcare\", \"rating\": 3.0, \"value\": 0.29315263908701855}, {\"occupation\": \"homemaker\", \"rating\": 3.0, \"value\": 0.27424749163879597}, {\"occupation\": \"lawyer\", \"rating\": 3.0, \"value\": 0.21486988847583643}, {\"occupation\": \"librarian\", \"rating\": 3.0, \"value\": 0.28939882419874835}, {\"occupation\": \"marketing\", \"rating\": 3.0, \"value\": 0.31025641025641026}, {\"occupation\": \"none\", \"rating\": 3.0, \"value\": 0.2386237513873474}, {\"occupation\": \"other\", \"rating\": 3.0, \"value\": 0.28706742942886615}, {\"occupation\": \"programmer\", \"rating\": 3.0, \"value\": 0.2548391231893347}, {\"occupation\": \"retired\", \"rating\": 3.0, \"value\": 0.3113735239279055}, {\"occupation\": \"salesman\", \"rating\": 3.0, \"value\": 0.2441588785046729}, {\"occupation\": \"scientist\", \"rating\": 3.0, \"value\": 0.29057337220602525}, {\"occupation\": \"student\", \"rating\": 3.0, \"value\": 0.2677050598897846}, {\"occupation\": \"technician\", \"rating\": 3.0, \"value\": 0.2855105533371363}, {\"occupation\": \"writer\", \"rating\": 3.0, \"value\": 0.2707731213872832}, {\"occupation\": \"administrator\", \"rating\": 4.0, \"value\": 0.34991308998529214}, {\"occupation\": \"artist\", \"rating\": 4.0, \"value\": 0.31672443674176776}, {\"occupation\": \"doctor\", \"rating\": 4.0, \"value\": 0.43148148148148147}, {\"occupation\": \"educator\", \"rating\": 4.0, \"value\": 0.3767210336793052}, {\"occupation\": \"engineer\", \"rating\": 4.0, \"value\": 0.3365137614678899}, {\"occupation\": \"entertainment\", \"rating\": 4.0, \"value\": 0.29880668257756565}, {\"occupation\": \"executive\", \"rating\": 4.0, \"value\": 0.30355568615927125}, {\"occupation\": \"healthcare\", \"rating\": 4.0, \"value\": 0.2478601997146933}, {\"occupation\": \"homemaker\", \"rating\": 4.0, \"value\": 0.3277591973244147}, {\"occupation\": \"lawyer\", \"rating\": 4.0, \"value\": 0.37174721189591076}, {\"occupation\": \"librarian\", \"rating\": 4.0, \"value\": 0.3607054807509956}, {\"occupation\": \"marketing\", \"rating\": 4.0, \"value\": 0.32051282051282054}, {\"occupation\": \"none\", \"rating\": 4.0, \"value\": 0.3407325194228635}, {\"occupation\": \"other\", \"rating\": 4.0, \"value\": 0.31998499484197696}, {\"occupation\": \"programmer\", \"rating\": 4.0, \"value\": 0.35956928598897575}, {\"occupation\": \"retired\", \"rating\": 4.0, \"value\": 0.4108141702921069}, {\"occupation\": \"salesman\", \"rating\": 4.0, \"value\": 0.3422897196261682}, {\"occupation\": \"scientist\", \"rating\": 4.0, \"value\": 0.3838678328474247}, {\"occupation\": \"student\", \"rating\": 4.0, \"value\": 0.34449150612560914}, {\"occupation\": \"technician\", \"rating\": 4.0, \"value\": 0.3784940102681118}, {\"occupation\": \"writer\", \"rating\": 4.0, \"value\": 0.29750722543352603}, {\"occupation\": \"administrator\", \"rating\": 5.0, \"value\": 0.23853456344431073}, {\"occupation\": \"artist\", \"rating\": 5.0, \"value\": 0.2833622183708839}, {\"occupation\": \"doctor\", \"rating\": 5.0, \"value\": 0.1962962962962963}, {\"occupation\": \"educator\", \"rating\": 5.0, \"value\": 0.2381910612158441}, {\"occupation\": \"engineer\", \"rating\": 5.0, \"value\": 0.20256880733944954}, {\"occupation\": \"entertainment\", \"rating\": 5.0, \"value\": 0.21384248210023865}, {\"occupation\": \"executive\", \"rating\": 5.0, \"value\": 0.22156920364384367}, {\"occupation\": \"healthcare\", \"rating\": 5.0, \"value\": 0.10342368045649072}, {\"occupation\": \"homemaker\", \"rating\": 5.0, \"value\": 0.15384615384615385}, {\"occupation\": \"lawyer\", \"rating\": 5.0, \"value\": 0.27434944237918213}, {\"occupation\": \"librarian\", \"rating\": 5.0, \"value\": 0.19685188697136355}, {\"occupation\": \"marketing\", \"rating\": 5.0, \"value\": 0.19333333333333333}, {\"occupation\": \"none\", \"rating\": 5.0, \"value\": 0.29966703662597116}, {\"occupation\": \"other\", \"rating\": 5.0, \"value\": 0.22573384600956578}, {\"occupation\": \"programmer\", \"rating\": 5.0, \"value\": 0.2174080246122292}, {\"occupation\": \"retired\", \"rating\": 5.0, \"value\": 0.12119328775637042}, {\"occupation\": \"salesman\", \"rating\": 5.0, \"value\": 0.24532710280373832}, {\"occupation\": \"scientist\", \"rating\": 5.0, \"value\": 0.195821185617104}, {\"occupation\": \"student\", \"rating\": 5.0, \"value\": 0.2063123377510589}, {\"occupation\": \"technician\", \"rating\": 5.0, \"value\": 0.1779806046776954}, {\"occupation\": \"writer\", \"rating\": 5.0, \"value\": 0.19779624277456648}]}}, {\"mode\": \"vega-lite\"});\n",
       "</script>"
      ],
      "text/plain": [
       "alt.Chart(...)"
      ]
     },
     "execution_count": 137,
     "metadata": {},
     "output_type": "execute_result"
    }
   ],
   "source": [
    "print (\"What users have rated the most movies\")\n",
    "#alt.data_transformers.enable('default', max_rows=999999)\n",
    "alt.data_transformers.disable_max_rows()\n",
    "\n",
    "# ic(ratings)\n",
    "r2 = ratings.merge (users)\n",
    "# ic(r2)\n",
    "\n",
    "# See relative ratings by occupation \n",
    "# count_by_occupation = r2.groupby(\"occupation\").agg(count=('rating', np.size)).sort_values(\"count\")\n",
    "count_by_occupation = r2.groupby(\"occupation\").occupation.count()\n",
    "# ic(count_by_occupation) \n",
    "\n",
    "ratings_by_occupation = r2.groupby([\"occupation\",\"rating\"]).rating.count().unstack()\n",
    "# display (ratings_by_occupation)\n",
    "\n",
    "normalized_ratings_by_occupation  = (ratings_by_occupation.div(ratings_by_occupation.sum(axis=1), axis=0))\n",
    "\n",
    "melted = normalized_ratings_by_occupation.reset_index().melt(id_vars=[\"occupation\"])\n",
    "# display(melted)\n",
    "\n",
    "mean_by_occupation = r2.groupby(\"occupation\").rating.mean()\n",
    "\n",
    "# Convert back to df\n",
    "mean_by_occupation = pd.DataFrame(mean_by_occupation.reset_index())\n",
    "\n",
    "_ =  alt.Chart(mean_by_occupation).mark_bar().encode(\n",
    "    alt.Y('occupation:O'),\n",
    "    alt.X('rating'),\n",
    ")\n",
    "display(_)\n",
    "        \n",
    "alt.Chart(melted).mark_bar().encode(\n",
    "    alt.X('sum(value)'),\n",
    "    alt.Y('occupation:O'),\n",
    "    color = alt.Color(\"rating:O\",  scale=alt.Scale(scheme=\"category20\"))\n",
    ")\n",
    "\n"
   ]
  },
  {
   "cell_type": "markdown",
   "metadata": {
    "id": "CH2_gW3Oo4tF"
   },
   "source": [
    "We can also create histograms to further understand the distribution of the users. We use Altair to create an interactive chart."
   ]
  },
  {
   "cell_type": "markdown",
   "metadata": {
    "id": "D93Jn4Pao4tH"
   },
   "source": [
    "Next, we look at the distribution of ratings per user. Clicking on an occupation in the right chart will filter the data by that occupation. The corresponding histogram is shown in blue, and superimposed with the histogram for the whole data (in light gray). You can use SHIFT+click to select multiple subsets.\n",
    "\n",
    "What do you observe, and how might this affect the recommendations?"
   ]
  },
  {
   "cell_type": "markdown",
   "metadata": {
    "id": "cmzAwTCRWhLY"
   },
   "source": []
  },
  {
   "cell_type": "markdown",
   "metadata": {
    "id": "pmC6wykPo4tK"
   },
   "source": [
    "### Movies\n",
    "\n",
    "It is also useful to look at information about the movies and their ratings."
   ]
  },
  {
   "cell_type": "code",
   "execution_count": 138,
   "metadata": {
    "id": "tCdPQRsso4tL"
   },
   "outputs": [
    {
     "data": {
      "text/html": [
       "<div>\n",
       "<style scoped>\n",
       "    .dataframe tbody tr th:only-of-type {\n",
       "        vertical-align: middle;\n",
       "    }\n",
       "\n",
       "    .dataframe tbody tr th {\n",
       "        vertical-align: top;\n",
       "    }\n",
       "\n",
       "    .dataframe thead th {\n",
       "        text-align: right;\n",
       "    }\n",
       "</style>\n",
       "<table border=\"1\" class=\"dataframe\">\n",
       "  <thead>\n",
       "    <tr style=\"text-align: right;\">\n",
       "      <th></th>\n",
       "      <th>movie_id</th>\n",
       "      <th>title</th>\n",
       "      <th>release_date</th>\n",
       "      <th>video_release_date</th>\n",
       "      <th>imdb_url</th>\n",
       "      <th>genre_unknown</th>\n",
       "      <th>Action</th>\n",
       "      <th>Adventure</th>\n",
       "      <th>Animation</th>\n",
       "      <th>Children</th>\n",
       "      <th>...</th>\n",
       "      <th>Romance</th>\n",
       "      <th>Sci-Fi</th>\n",
       "      <th>Thriller</th>\n",
       "      <th>War</th>\n",
       "      <th>Western</th>\n",
       "      <th>year</th>\n",
       "      <th>genre</th>\n",
       "      <th>all_genres</th>\n",
       "      <th>rating count</th>\n",
       "      <th>rating mean</th>\n",
       "    </tr>\n",
       "  </thead>\n",
       "  <tbody>\n",
       "    <tr>\n",
       "      <th>0</th>\n",
       "      <td>0</td>\n",
       "      <td>Toy Story (1995)</td>\n",
       "      <td>01-Jan-1995</td>\n",
       "      <td>NaN</td>\n",
       "      <td>http://us.imdb.com/M/title-exact?Toy%20Story%2...</td>\n",
       "      <td>0</td>\n",
       "      <td>0</td>\n",
       "      <td>0</td>\n",
       "      <td>1</td>\n",
       "      <td>1</td>\n",
       "      <td>...</td>\n",
       "      <td>0</td>\n",
       "      <td>0</td>\n",
       "      <td>0</td>\n",
       "      <td>0</td>\n",
       "      <td>0</td>\n",
       "      <td>1995</td>\n",
       "      <td>Children</td>\n",
       "      <td>Animation-Children-Comedy</td>\n",
       "      <td>452</td>\n",
       "      <td>3.878</td>\n",
       "    </tr>\n",
       "    <tr>\n",
       "      <th>1</th>\n",
       "      <td>1</td>\n",
       "      <td>GoldenEye (1995)</td>\n",
       "      <td>01-Jan-1995</td>\n",
       "      <td>NaN</td>\n",
       "      <td>http://us.imdb.com/M/title-exact?GoldenEye%20(...</td>\n",
       "      <td>0</td>\n",
       "      <td>1</td>\n",
       "      <td>1</td>\n",
       "      <td>0</td>\n",
       "      <td>0</td>\n",
       "      <td>...</td>\n",
       "      <td>0</td>\n",
       "      <td>0</td>\n",
       "      <td>1</td>\n",
       "      <td>0</td>\n",
       "      <td>0</td>\n",
       "      <td>1995</td>\n",
       "      <td>Action</td>\n",
       "      <td>Action-Adventure-Thriller</td>\n",
       "      <td>131</td>\n",
       "      <td>3.206</td>\n",
       "    </tr>\n",
       "    <tr>\n",
       "      <th>2</th>\n",
       "      <td>2</td>\n",
       "      <td>Four Rooms (1995)</td>\n",
       "      <td>01-Jan-1995</td>\n",
       "      <td>NaN</td>\n",
       "      <td>http://us.imdb.com/M/title-exact?Four%20Rooms%...</td>\n",
       "      <td>0</td>\n",
       "      <td>0</td>\n",
       "      <td>0</td>\n",
       "      <td>0</td>\n",
       "      <td>0</td>\n",
       "      <td>...</td>\n",
       "      <td>0</td>\n",
       "      <td>0</td>\n",
       "      <td>1</td>\n",
       "      <td>0</td>\n",
       "      <td>0</td>\n",
       "      <td>1995</td>\n",
       "      <td>Thriller</td>\n",
       "      <td>Thriller</td>\n",
       "      <td>90</td>\n",
       "      <td>3.033</td>\n",
       "    </tr>\n",
       "    <tr>\n",
       "      <th>3</th>\n",
       "      <td>3</td>\n",
       "      <td>Get Shorty (1995)</td>\n",
       "      <td>01-Jan-1995</td>\n",
       "      <td>NaN</td>\n",
       "      <td>http://us.imdb.com/M/title-exact?Get%20Shorty%...</td>\n",
       "      <td>0</td>\n",
       "      <td>1</td>\n",
       "      <td>0</td>\n",
       "      <td>0</td>\n",
       "      <td>0</td>\n",
       "      <td>...</td>\n",
       "      <td>0</td>\n",
       "      <td>0</td>\n",
       "      <td>0</td>\n",
       "      <td>0</td>\n",
       "      <td>0</td>\n",
       "      <td>1995</td>\n",
       "      <td>Drama</td>\n",
       "      <td>Action-Comedy-Drama</td>\n",
       "      <td>209</td>\n",
       "      <td>3.550</td>\n",
       "    </tr>\n",
       "    <tr>\n",
       "      <th>4</th>\n",
       "      <td>4</td>\n",
       "      <td>Copycat (1995)</td>\n",
       "      <td>01-Jan-1995</td>\n",
       "      <td>NaN</td>\n",
       "      <td>http://us.imdb.com/M/title-exact?Copycat%20(1995)</td>\n",
       "      <td>0</td>\n",
       "      <td>0</td>\n",
       "      <td>0</td>\n",
       "      <td>0</td>\n",
       "      <td>0</td>\n",
       "      <td>...</td>\n",
       "      <td>0</td>\n",
       "      <td>0</td>\n",
       "      <td>1</td>\n",
       "      <td>0</td>\n",
       "      <td>0</td>\n",
       "      <td>1995</td>\n",
       "      <td>Crime</td>\n",
       "      <td>Crime-Drama-Thriller</td>\n",
       "      <td>86</td>\n",
       "      <td>3.302</td>\n",
       "    </tr>\n",
       "    <tr>\n",
       "      <th>...</th>\n",
       "      <td>...</td>\n",
       "      <td>...</td>\n",
       "      <td>...</td>\n",
       "      <td>...</td>\n",
       "      <td>...</td>\n",
       "      <td>...</td>\n",
       "      <td>...</td>\n",
       "      <td>...</td>\n",
       "      <td>...</td>\n",
       "      <td>...</td>\n",
       "      <td>...</td>\n",
       "      <td>...</td>\n",
       "      <td>...</td>\n",
       "      <td>...</td>\n",
       "      <td>...</td>\n",
       "      <td>...</td>\n",
       "      <td>...</td>\n",
       "      <td>...</td>\n",
       "      <td>...</td>\n",
       "      <td>...</td>\n",
       "      <td>...</td>\n",
       "    </tr>\n",
       "    <tr>\n",
       "      <th>1677</th>\n",
       "      <td>1677</td>\n",
       "      <td>Mat' i syn (1997)</td>\n",
       "      <td>06-Feb-1998</td>\n",
       "      <td>NaN</td>\n",
       "      <td>http://us.imdb.com/M/title-exact?Mat%27+i+syn+...</td>\n",
       "      <td>0</td>\n",
       "      <td>0</td>\n",
       "      <td>0</td>\n",
       "      <td>0</td>\n",
       "      <td>0</td>\n",
       "      <td>...</td>\n",
       "      <td>0</td>\n",
       "      <td>0</td>\n",
       "      <td>0</td>\n",
       "      <td>0</td>\n",
       "      <td>0</td>\n",
       "      <td>1998</td>\n",
       "      <td>Drama</td>\n",
       "      <td>Drama</td>\n",
       "      <td>1</td>\n",
       "      <td>1.000</td>\n",
       "    </tr>\n",
       "    <tr>\n",
       "      <th>1678</th>\n",
       "      <td>1678</td>\n",
       "      <td>B. Monkey (1998)</td>\n",
       "      <td>06-Feb-1998</td>\n",
       "      <td>NaN</td>\n",
       "      <td>http://us.imdb.com/M/title-exact?B%2E+Monkey+(...</td>\n",
       "      <td>0</td>\n",
       "      <td>0</td>\n",
       "      <td>0</td>\n",
       "      <td>0</td>\n",
       "      <td>0</td>\n",
       "      <td>...</td>\n",
       "      <td>1</td>\n",
       "      <td>0</td>\n",
       "      <td>1</td>\n",
       "      <td>0</td>\n",
       "      <td>0</td>\n",
       "      <td>1998</td>\n",
       "      <td>Thriller</td>\n",
       "      <td>Romance-Thriller</td>\n",
       "      <td>1</td>\n",
       "      <td>3.000</td>\n",
       "    </tr>\n",
       "    <tr>\n",
       "      <th>1679</th>\n",
       "      <td>1679</td>\n",
       "      <td>Sliding Doors (1998)</td>\n",
       "      <td>01-Jan-1998</td>\n",
       "      <td>NaN</td>\n",
       "      <td>http://us.imdb.com/Title?Sliding+Doors+(1998)</td>\n",
       "      <td>0</td>\n",
       "      <td>0</td>\n",
       "      <td>0</td>\n",
       "      <td>0</td>\n",
       "      <td>0</td>\n",
       "      <td>...</td>\n",
       "      <td>1</td>\n",
       "      <td>0</td>\n",
       "      <td>0</td>\n",
       "      <td>0</td>\n",
       "      <td>0</td>\n",
       "      <td>1998</td>\n",
       "      <td>Romance</td>\n",
       "      <td>Drama-Romance</td>\n",
       "      <td>1</td>\n",
       "      <td>2.000</td>\n",
       "    </tr>\n",
       "    <tr>\n",
       "      <th>1680</th>\n",
       "      <td>1680</td>\n",
       "      <td>You So Crazy (1994)</td>\n",
       "      <td>01-Jan-1994</td>\n",
       "      <td>NaN</td>\n",
       "      <td>http://us.imdb.com/M/title-exact?You%20So%20Cr...</td>\n",
       "      <td>0</td>\n",
       "      <td>0</td>\n",
       "      <td>0</td>\n",
       "      <td>0</td>\n",
       "      <td>0</td>\n",
       "      <td>...</td>\n",
       "      <td>0</td>\n",
       "      <td>0</td>\n",
       "      <td>0</td>\n",
       "      <td>0</td>\n",
       "      <td>0</td>\n",
       "      <td>1994</td>\n",
       "      <td>Comedy</td>\n",
       "      <td>Comedy</td>\n",
       "      <td>1</td>\n",
       "      <td>3.000</td>\n",
       "    </tr>\n",
       "    <tr>\n",
       "      <th>1681</th>\n",
       "      <td>1681</td>\n",
       "      <td>Scream of Stone (Schrei aus Stein) (1991)</td>\n",
       "      <td>08-Mar-1996</td>\n",
       "      <td>NaN</td>\n",
       "      <td>http://us.imdb.com/M/title-exact?Schrei%20aus%...</td>\n",
       "      <td>0</td>\n",
       "      <td>0</td>\n",
       "      <td>0</td>\n",
       "      <td>0</td>\n",
       "      <td>0</td>\n",
       "      <td>...</td>\n",
       "      <td>0</td>\n",
       "      <td>0</td>\n",
       "      <td>0</td>\n",
       "      <td>0</td>\n",
       "      <td>0</td>\n",
       "      <td>1996</td>\n",
       "      <td>Drama</td>\n",
       "      <td>Drama</td>\n",
       "      <td>1</td>\n",
       "      <td>3.000</td>\n",
       "    </tr>\n",
       "  </tbody>\n",
       "</table>\n",
       "<p>1682 rows × 29 columns</p>\n",
       "</div>"
      ],
      "text/plain": [
       "     movie_id                                      title release_date  \\\n",
       "0           0                           Toy Story (1995)  01-Jan-1995   \n",
       "1           1                           GoldenEye (1995)  01-Jan-1995   \n",
       "2           2                          Four Rooms (1995)  01-Jan-1995   \n",
       "3           3                          Get Shorty (1995)  01-Jan-1995   \n",
       "4           4                             Copycat (1995)  01-Jan-1995   \n",
       "...       ...                                        ...          ...   \n",
       "1677     1677                          Mat' i syn (1997)  06-Feb-1998   \n",
       "1678     1678                           B. Monkey (1998)  06-Feb-1998   \n",
       "1679     1679                       Sliding Doors (1998)  01-Jan-1998   \n",
       "1680     1680                        You So Crazy (1994)  01-Jan-1994   \n",
       "1681     1681  Scream of Stone (Schrei aus Stein) (1991)  08-Mar-1996   \n",
       "\n",
       "      video_release_date                                           imdb_url  \\\n",
       "0                    NaN  http://us.imdb.com/M/title-exact?Toy%20Story%2...   \n",
       "1                    NaN  http://us.imdb.com/M/title-exact?GoldenEye%20(...   \n",
       "2                    NaN  http://us.imdb.com/M/title-exact?Four%20Rooms%...   \n",
       "3                    NaN  http://us.imdb.com/M/title-exact?Get%20Shorty%...   \n",
       "4                    NaN  http://us.imdb.com/M/title-exact?Copycat%20(1995)   \n",
       "...                  ...                                                ...   \n",
       "1677                 NaN  http://us.imdb.com/M/title-exact?Mat%27+i+syn+...   \n",
       "1678                 NaN  http://us.imdb.com/M/title-exact?B%2E+Monkey+(...   \n",
       "1679                 NaN      http://us.imdb.com/Title?Sliding+Doors+(1998)   \n",
       "1680                 NaN  http://us.imdb.com/M/title-exact?You%20So%20Cr...   \n",
       "1681                 NaN  http://us.imdb.com/M/title-exact?Schrei%20aus%...   \n",
       "\n",
       "      genre_unknown  Action  Adventure  Animation  Children  ...  Romance  \\\n",
       "0                 0       0          0          1         1  ...        0   \n",
       "1                 0       1          1          0         0  ...        0   \n",
       "2                 0       0          0          0         0  ...        0   \n",
       "3                 0       1          0          0         0  ...        0   \n",
       "4                 0       0          0          0         0  ...        0   \n",
       "...             ...     ...        ...        ...       ...  ...      ...   \n",
       "1677              0       0          0          0         0  ...        0   \n",
       "1678              0       0          0          0         0  ...        1   \n",
       "1679              0       0          0          0         0  ...        1   \n",
       "1680              0       0          0          0         0  ...        0   \n",
       "1681              0       0          0          0         0  ...        0   \n",
       "\n",
       "      Sci-Fi  Thriller  War  Western  year     genre  \\\n",
       "0          0         0    0        0  1995  Children   \n",
       "1          0         1    0        0  1995    Action   \n",
       "2          0         1    0        0  1995  Thriller   \n",
       "3          0         0    0        0  1995     Drama   \n",
       "4          0         1    0        0  1995     Crime   \n",
       "...      ...       ...  ...      ...   ...       ...   \n",
       "1677       0         0    0        0  1998     Drama   \n",
       "1678       0         1    0        0  1998  Thriller   \n",
       "1679       0         0    0        0  1998   Romance   \n",
       "1680       0         0    0        0  1994    Comedy   \n",
       "1681       0         0    0        0  1996     Drama   \n",
       "\n",
       "                     all_genres  rating count  rating mean  \n",
       "0     Animation-Children-Comedy           452        3.878  \n",
       "1     Action-Adventure-Thriller           131        3.206  \n",
       "2                      Thriller            90        3.033  \n",
       "3           Action-Comedy-Drama           209        3.550  \n",
       "4          Crime-Drama-Thriller            86        3.302  \n",
       "...                         ...           ...          ...  \n",
       "1677                      Drama             1        1.000  \n",
       "1678           Romance-Thriller             1        3.000  \n",
       "1679              Drama-Romance             1        2.000  \n",
       "1680                     Comedy             1        3.000  \n",
       "1681                      Drama             1        3.000  \n",
       "\n",
       "[1682 rows x 29 columns]"
      ]
     },
     "execution_count": 138,
     "metadata": {},
     "output_type": "execute_result"
    }
   ],
   "source": [
    "movies_ratings = movies.merge(\n",
    "    ratings.groupby(\"movie_id\", as_index=False)\n",
    "    .agg({\"rating\": [\"count\", \"mean\"]})\n",
    "    .flatten_cols(),\n",
    "    on=\"movie_id\",\n",
    ")\n",
    "\n",
    "movies_ratings"
   ]
  },
  {
   "cell_type": "code",
   "execution_count": 139,
   "metadata": {
    "id": "NH9QQNr6o4tO"
   },
   "outputs": [
    {
     "data": {
      "text/plain": [
       "'Movies by rating count'"
      ]
     },
     "metadata": {},
     "output_type": "display_data"
    },
    {
     "data": {
      "text/html": [
       "<div>\n",
       "<style scoped>\n",
       "    .dataframe tbody tr th:only-of-type {\n",
       "        vertical-align: middle;\n",
       "    }\n",
       "\n",
       "    .dataframe tbody tr th {\n",
       "        vertical-align: top;\n",
       "    }\n",
       "\n",
       "    .dataframe thead th {\n",
       "        text-align: right;\n",
       "    }\n",
       "</style>\n",
       "<table border=\"1\" class=\"dataframe\">\n",
       "  <thead>\n",
       "    <tr style=\"text-align: right;\">\n",
       "      <th></th>\n",
       "      <th>title</th>\n",
       "      <th>rating count</th>\n",
       "      <th>rating mean</th>\n",
       "    </tr>\n",
       "  </thead>\n",
       "  <tbody>\n",
       "    <tr>\n",
       "      <th>49</th>\n",
       "      <td>Star Wars (1977)</td>\n",
       "      <td>583</td>\n",
       "      <td>4.358</td>\n",
       "    </tr>\n",
       "    <tr>\n",
       "      <th>257</th>\n",
       "      <td>Contact (1997)</td>\n",
       "      <td>509</td>\n",
       "      <td>3.804</td>\n",
       "    </tr>\n",
       "    <tr>\n",
       "      <th>99</th>\n",
       "      <td>Fargo (1996)</td>\n",
       "      <td>508</td>\n",
       "      <td>4.156</td>\n",
       "    </tr>\n",
       "    <tr>\n",
       "      <th>180</th>\n",
       "      <td>Return of the Jedi (1983)</td>\n",
       "      <td>507</td>\n",
       "      <td>4.008</td>\n",
       "    </tr>\n",
       "    <tr>\n",
       "      <th>293</th>\n",
       "      <td>Liar Liar (1997)</td>\n",
       "      <td>485</td>\n",
       "      <td>3.157</td>\n",
       "    </tr>\n",
       "    <tr>\n",
       "      <th>285</th>\n",
       "      <td>English Patient, The (1996)</td>\n",
       "      <td>481</td>\n",
       "      <td>3.657</td>\n",
       "    </tr>\n",
       "    <tr>\n",
       "      <th>287</th>\n",
       "      <td>Scream (1996)</td>\n",
       "      <td>478</td>\n",
       "      <td>3.441</td>\n",
       "    </tr>\n",
       "    <tr>\n",
       "      <th>0</th>\n",
       "      <td>Toy Story (1995)</td>\n",
       "      <td>452</td>\n",
       "      <td>3.878</td>\n",
       "    </tr>\n",
       "    <tr>\n",
       "      <th>299</th>\n",
       "      <td>Air Force One (1997)</td>\n",
       "      <td>431</td>\n",
       "      <td>3.631</td>\n",
       "    </tr>\n",
       "    <tr>\n",
       "      <th>120</th>\n",
       "      <td>Independence Day (ID4) (1996)</td>\n",
       "      <td>429</td>\n",
       "      <td>3.438</td>\n",
       "    </tr>\n",
       "  </tbody>\n",
       "</table>\n",
       "</div>"
      ],
      "text/plain": [
       "                             title  rating count  rating mean\n",
       "49                Star Wars (1977)           583        4.358\n",
       "257                 Contact (1997)           509        3.804\n",
       "99                    Fargo (1996)           508        4.156\n",
       "180      Return of the Jedi (1983)           507        4.008\n",
       "293               Liar Liar (1997)           485        3.157\n",
       "285    English Patient, The (1996)           481        3.657\n",
       "287                  Scream (1996)           478        3.441\n",
       "0                 Toy Story (1995)           452        3.878\n",
       "299           Air Force One (1997)           431        3.631\n",
       "120  Independence Day (ID4) (1996)           429        3.438"
      ]
     },
     "execution_count": 139,
     "metadata": {},
     "output_type": "execute_result"
    }
   ],
   "source": [
    "display (\"Movies by rating count\") \n",
    "(\n",
    "    movies_ratings[[\"title\", \"rating count\", \"rating mean\"]]\n",
    "    .sort_values(\"rating count\", ascending=False)\n",
    "    .head(10)\n",
    ")"
   ]
  },
  {
   "cell_type": "code",
   "execution_count": 140,
   "metadata": {
    "id": "xNb5Lz1oo4tP"
   },
   "outputs": [
    {
     "data": {
      "text/plain": [
       "'Movies by rating mean'"
      ]
     },
     "metadata": {},
     "output_type": "display_data"
    },
    {
     "data": {
      "text/html": [
       "<div>\n",
       "<style scoped>\n",
       "    .dataframe tbody tr th:only-of-type {\n",
       "        vertical-align: middle;\n",
       "    }\n",
       "\n",
       "    .dataframe tbody tr th {\n",
       "        vertical-align: top;\n",
       "    }\n",
       "\n",
       "    .dataframe thead th {\n",
       "        text-align: right;\n",
       "    }\n",
       "</style>\n",
       "<table border=\"1\" class=\"dataframe\">\n",
       "  <thead>\n",
       "    <tr style=\"text-align: right;\">\n",
       "      <th></th>\n",
       "      <th>title</th>\n",
       "      <th>rating count</th>\n",
       "      <th>rating mean</th>\n",
       "    </tr>\n",
       "  </thead>\n",
       "  <tbody>\n",
       "    <tr>\n",
       "      <th>407</th>\n",
       "      <td>Close Shave, A (1995)</td>\n",
       "      <td>112</td>\n",
       "      <td>4.491</td>\n",
       "    </tr>\n",
       "    <tr>\n",
       "      <th>317</th>\n",
       "      <td>Schindler's List (1993)</td>\n",
       "      <td>298</td>\n",
       "      <td>4.466</td>\n",
       "    </tr>\n",
       "    <tr>\n",
       "      <th>168</th>\n",
       "      <td>Wrong Trousers, The (1993)</td>\n",
       "      <td>118</td>\n",
       "      <td>4.466</td>\n",
       "    </tr>\n",
       "    <tr>\n",
       "      <th>482</th>\n",
       "      <td>Casablanca (1942)</td>\n",
       "      <td>243</td>\n",
       "      <td>4.457</td>\n",
       "    </tr>\n",
       "    <tr>\n",
       "      <th>113</th>\n",
       "      <td>Wallace &amp; Gromit: The Best of Aardman Animatio...</td>\n",
       "      <td>67</td>\n",
       "      <td>4.448</td>\n",
       "    </tr>\n",
       "    <tr>\n",
       "      <th>63</th>\n",
       "      <td>Shawshank Redemption, The (1994)</td>\n",
       "      <td>283</td>\n",
       "      <td>4.445</td>\n",
       "    </tr>\n",
       "    <tr>\n",
       "      <th>602</th>\n",
       "      <td>Rear Window (1954)</td>\n",
       "      <td>209</td>\n",
       "      <td>4.388</td>\n",
       "    </tr>\n",
       "    <tr>\n",
       "      <th>11</th>\n",
       "      <td>Usual Suspects, The (1995)</td>\n",
       "      <td>267</td>\n",
       "      <td>4.386</td>\n",
       "    </tr>\n",
       "    <tr>\n",
       "      <th>49</th>\n",
       "      <td>Star Wars (1977)</td>\n",
       "      <td>583</td>\n",
       "      <td>4.358</td>\n",
       "    </tr>\n",
       "    <tr>\n",
       "      <th>177</th>\n",
       "      <td>12 Angry Men (1957)</td>\n",
       "      <td>125</td>\n",
       "      <td>4.344</td>\n",
       "    </tr>\n",
       "  </tbody>\n",
       "</table>\n",
       "</div>"
      ],
      "text/plain": [
       "                                                 title  rating count  \\\n",
       "407                              Close Shave, A (1995)           112   \n",
       "317                            Schindler's List (1993)           298   \n",
       "168                         Wrong Trousers, The (1993)           118   \n",
       "482                                  Casablanca (1942)           243   \n",
       "113  Wallace & Gromit: The Best of Aardman Animatio...            67   \n",
       "63                    Shawshank Redemption, The (1994)           283   \n",
       "602                                 Rear Window (1954)           209   \n",
       "11                          Usual Suspects, The (1995)           267   \n",
       "49                                    Star Wars (1977)           583   \n",
       "177                                12 Angry Men (1957)           125   \n",
       "\n",
       "     rating mean  \n",
       "407        4.491  \n",
       "317        4.466  \n",
       "168        4.466  \n",
       "482        4.457  \n",
       "113        4.448  \n",
       "63         4.445  \n",
       "602        4.388  \n",
       "11         4.386  \n",
       "49         4.358  \n",
       "177        4.344  "
      ]
     },
     "execution_count": 140,
     "metadata": {},
     "output_type": "execute_result"
    }
   ],
   "source": [
    "display(\"Movies by rating mean\")\n",
    "(\n",
    "    movies_ratings[[\"title\", \"rating count\", \"rating mean\"]]\n",
    "    .mask(\"rating count\", lambda x: x > 20)\n",
    "    .sort_values(\"rating mean\", ascending=False)\n",
    "    .head(10)\n",
    ")"
   ]
  },
  {
   "cell_type": "markdown",
   "metadata": {
    "id": "kW_WRQyDo4tR"
   },
   "source": [
    "Finally, the last chart shows the distribution of the number of ratings and average rating."
   ]
  },
  {
   "cell_type": "code",
   "execution_count": 141,
   "metadata": {
    "id": "z8wxFfV8o4tR"
   },
   "outputs": [
    {
     "ename": "NameError",
     "evalue": "name 'filtered_hist' is not defined",
     "output_type": "error",
     "traceback": [
      "\u001b[0;31m---------------------------------------------------------------------------\u001b[0m",
      "\u001b[0;31mNameError\u001b[0m                                 Traceback (most recent call last)",
      "Cell \u001b[0;32mIn[141], line 3\u001b[0m\n\u001b[1;32m      1\u001b[0m \u001b[38;5;66;03m# Display the number of ratings and average rating per movie.\u001b[39;00m\n\u001b[1;32m      2\u001b[0m alt\u001b[38;5;241m.\u001b[39mhconcat(\n\u001b[0;32m----> 3\u001b[0m     \u001b[43mfiltered_hist\u001b[49m(\u001b[38;5;124m\"\u001b[39m\u001b[38;5;124mrating count\u001b[39m\u001b[38;5;124m\"\u001b[39m, \u001b[38;5;124m\"\u001b[39m\u001b[38;5;124m# ratings / movie\u001b[39m\u001b[38;5;124m\"\u001b[39m, genre_filter),\n\u001b[1;32m      4\u001b[0m     filtered_hist(\u001b[38;5;124m\"\u001b[39m\u001b[38;5;124mrating mean\u001b[39m\u001b[38;5;124m\"\u001b[39m, \u001b[38;5;124m\"\u001b[39m\u001b[38;5;124mmean movie rating\u001b[39m\u001b[38;5;124m\"\u001b[39m, genre_filter),\n\u001b[1;32m      5\u001b[0m     genre_chart,\n\u001b[1;32m      6\u001b[0m     data\u001b[38;5;241m=\u001b[39mmovies_ratings,\n\u001b[1;32m      7\u001b[0m )\n",
      "\u001b[0;31mNameError\u001b[0m: name 'filtered_hist' is not defined"
     ]
    }
   ],
   "source": [
    "# Display the number of ratings and average rating per movie.\n",
    "alt.hconcat(\n",
    "    filtered_hist(\"rating count\", \"# ratings / movie\", genre_filter),\n",
    "    filtered_hist(\"rating mean\", \"mean movie rating\", genre_filter),\n",
    "    genre_chart,\n",
    "    data=movies_ratings,\n",
    ")"
   ]
  },
  {
   "cell_type": "markdown",
   "metadata": {
    "id": "WEhp-q31o4tS"
   },
   "source": [
    "# II. Preliminaries\n",
    "\n",
    "Our goal is to factorize the ratings matrix $A$ into the product of a user embedding matrix $U$ and movie embedding matrix $V$, such that $A \\approx UV^\\top$ with\n",
    "$U = \\begin{bmatrix} u_{1} \\\\ \\hline \\vdots \\\\ \\hline u_{N} \\end{bmatrix}$ and\n",
    "$V = \\begin{bmatrix} v_{1} \\\\ \\hline \\vdots \\\\ \\hline v_{M} \\end{bmatrix}$.\n",
    "\n",
    "Here\n",
    "- $N$ is the number of users,\n",
    "- $M$ is the number of movies,\n",
    "- $A_{ij}$ is the rating of the $j$th movies by the $i$th user,\n",
    "- each row $U_i$ is a $d$-dimensional vector (embedding) representing user $i$,\n",
    "- each row $V_j$ is a $d$-dimensional vector (embedding) representing movie $j$,\n",
    "- the prediction of the model for the $(i, j)$ pair is the dot product $\\langle U_i, V_j \\rangle$.\n",
    "\n"
   ]
  },
  {
   "cell_type": "markdown",
   "metadata": {
    "id": "yMYZw_Yco4tT"
   },
   "source": [
    "## Sparse Representation of the Rating Matrix\n",
    "\n",
    "The rating matrix could be very large and, in general, most of the entries are unobserved, since a given user will only rate a small subset of movies. For effcient representation, we will use a [tf.SparseTensor](https://www.tensorflow.org/api_docs/python/tf/SparseTensor). A `SparseTensor` uses three tensors to represent the matrix: `tf.SparseTensor(indices, values, dense_shape)` represents a tensor, where a value $A_{ij} = a$ is encoded by setting `indices[k] = [i, j]` and `values[k] = a`. The last tensor `dense_shape` is used to specify the shape of the full underlying matrix.\n",
    "\n",
    "#### Toy example\n",
    "Assume we have $2$ users and $4$ movies. Our toy ratings dataframe has three ratings,\n",
    "\n",
    "user\\_id | movie\\_id | rating\n",
    "--:|--:|--:\n",
    "0 | 0 | 5.0\n",
    "0 | 1 | 3.0\n",
    "1 | 3 | 1.0\n",
    "\n",
    "The corresponding rating matrix is\n",
    "\n",
    "$$\n",
    "A =\n",
    "\\begin{bmatrix}\n",
    "5.0 & 3.0 & 0 & 0 \\\\\n",
    "0   &   0 & 0 & 1.0\n",
    "\\end{bmatrix}\n",
    "$$\n",
    "\n",
    "And the SparseTensor representation is,\n",
    "```python\n",
    "SparseTensor(\n",
    "  indices=[[0, 0], [0, 1], [1,3]],\n",
    "  values=[5.0, 3.0, 1.0],\n",
    "  dense_shape=[2, 4])\n",
    "```\n",
    "\n"
   ]
  },
  {
   "cell_type": "markdown",
   "metadata": {
    "id": "vBNijwXuo4tU"
   },
   "source": [
    "### Exercise 1: Build a tf.SparseTensor representation of the Rating Matrix.\n",
    "\n",
    "In this exercise, we'll write a function that maps from our `ratings` DataFrame to a `tf.SparseTensor`.\n",
    "\n",
    "Hint: you can select the values of a given column of a Dataframe `df` using `df['column_name'].values`."
   ]
  },
  {
   "cell_type": "code",
   "execution_count": 142,
   "metadata": {
    "id": "dmVu6NVpo4tU"
   },
   "outputs": [],
   "source": [
    "def build_rating_sparse_tensor(ratings_df):\n",
    "    \"\"\"\n",
    "    Args:\n",
    "      ratings_df: a pd.DataFrame with `user_id`, `movie_id` and `rating` columns.\n",
    "    Returns:\n",
    "      A tf.SparseTensor representing the ratings matrix.\n",
    "    \"\"\"\n",
    "    # ========================= Complete this section ============================\n",
    "    # indices =\n",
    "    # values =\n",
    "    # ============================================================================\n",
    "\n",
    "    return tf.SparseTensor(\n",
    "        indices=indices, values=values, dense_shape=[users.shape[0], movies.shape[0]]\n",
    "    )"
   ]
  },
  {
   "cell_type": "code",
   "execution_count": 143,
   "metadata": {
    "id": "lwgUGTSmo4tW"
   },
   "outputs": [],
   "source": [
    "# @title Solution\n",
    "def build_rating_sparse_tensor(ratings_df):\n",
    "    \"\"\"\n",
    "    Args:\n",
    "      ratings_df: a pd.DataFrame with `user_id`, `movie_id` and `rating` columns.\n",
    "    Returns:\n",
    "      a tf.SparseTensor representing the ratings matrix.\n",
    "    \"\"\"\n",
    "    indices = ratings_df[[\"user_id\", \"movie_id\"]].values\n",
    "    values = ratings_df[\"rating\"].values\n",
    "    return tf.SparseTensor(\n",
    "        indices=indices, values=values, dense_shape=[users.shape[0], movies.shape[0]]\n",
    "    )"
   ]
  },
  {
   "cell_type": "markdown",
   "metadata": {
    "id": "8k9CSOH5o4tX"
   },
   "source": [
    "## Calculating the error\n",
    "\n",
    "The model approximates the ratings matrix $A$ by a low-rank product $UV^\\top$. We need a way to measure the approximation error. We'll start by using the Mean Squared Error of observed entries only (we will revisit this later). It is defined as\n",
    "\n",
    "$$\n",
    "\\begin{align*}\n",
    "\\text{MSE}(A, UV^\\top)\n",
    "&= \\frac{1}{|\\Omega|}\\sum_{(i, j) \\in\\Omega}{( A_{ij} - (UV^\\top)_{ij})^2} \\\\\n",
    "&= \\frac{1}{|\\Omega|}\\sum_{(i, j) \\in\\Omega}{( A_{ij} - \\langle U_i, V_j\\rangle)^2}\n",
    "\\end{align*}\n",
    "$$\n",
    "where $\\Omega$ is the set of observed ratings, and $|\\Omega|$ is the cardinality of $\\Omega$.\n",
    "\n"
   ]
  },
  {
   "cell_type": "markdown",
   "metadata": {
    "id": "KI1Ft-I7o4tX"
   },
   "source": [
    "### Exercise 2: Mean Squared Error\n",
    "\n",
    "Write a TensorFlow function that takes a sparse rating matrix $A$ and the two embedding matrices $U, V$ and returns the mean squared error $\\text{MSE}(A, UV^\\top)$.\n",
    "\n",
    "Hints:\n",
    "  * in this section, we only consider observed entries when calculating the loss.\n",
    "  * a `SparseTensor` `sp_x` is a tuple of three Tensors: `sp_x.indices`, `sp_x.values` and `sp_x.dense_shape`.\n",
    "  * you may find [`tf.gather_nd`](https://www.tensorflow.org/api_docs/python/tf/gather_nd) and  [`tf.losses.mean_squared_error`](https://www.tensorflow.org/api_docs/python/tf/losses/mean_squared_error) helpful."
   ]
  },
  {
   "cell_type": "code",
   "execution_count": 144,
   "metadata": {
    "id": "9GhqKwpQo4tZ"
   },
   "outputs": [],
   "source": [
    "def sparse_mean_square_error(sparse_ratings, user_embeddings, movie_embeddings):\n",
    "    \"\"\"\n",
    "    Args:\n",
    "      sparse_ratings: A SparseTensor rating matrix, of dense_shape [N, M]\n",
    "      user_embeddings: A dense Tensor U of shape [N, k] where k is the embedding\n",
    "        dimension, such that U_i is the embedding of user i.\n",
    "      movie_embeddings: A dense Tensor V of shape [M, k] where k is the embedding\n",
    "        dimension, such that V_j is the embedding of movie j.\n",
    "    Returns:\n",
    "      A scalar Tensor representing the MSE between the true ratings and the\n",
    "        model's predictions.\n",
    "    \"\"\"\n",
    "    # ========================= Complete this section ============================\n",
    "    # loss =\n",
    "    # ============================================================================\n",
    "    return loss"
   ]
  },
  {
   "cell_type": "code",
   "execution_count": 145,
   "metadata": {
    "id": "p43zJDN7o4ta"
   },
   "outputs": [],
   "source": [
    "# @title Solution\n",
    "def sparse_mean_square_error(sparse_ratings, user_embeddings, movie_embeddings):\n",
    "    \"\"\"\n",
    "    Args:\n",
    "      sparse_ratings: A SparseTensor rating matrix, of dense_shape [N, M]\n",
    "      user_embeddings: A dense Tensor U of shape [N, k] where k is the embedding\n",
    "        dimension, such that U_i is the embedding of user i.\n",
    "      movie_embeddings: A dense Tensor V of shape [M, k] where k is the embedding\n",
    "        dimension, such that V_j is the embedding of movie j.\n",
    "    Returns:\n",
    "      A scalar Tensor representing the MSE between the true ratings and the\n",
    "        model's predictions.\n",
    "    \"\"\"\n",
    "    predictions = tf.gather_nd(\n",
    "        tf.matmul(user_embeddings, movie_embeddings, transpose_b=True),\n",
    "        sparse_ratings.indices,\n",
    "    )\n",
    "    loss = tf.losses.mean_squared_error(sparse_ratings.values, predictions)\n",
    "    return loss"
   ]
  },
  {
   "cell_type": "markdown",
   "metadata": {
    "id": "IrteGTFgo4td"
   },
   "source": [
    "Note: One approach is to compute the full prediction matrix $UV^\\top$, then gather the entries corresponding to the observed pairs. The memory cost of this approach is $O(NM)$. For the MovieLens dataset, this is fine, as the dense $N \\times M$ matrix is small enough to fit in memory ($N = 943$, $M = 1682$).\n",
    "\n",
    "Another approach (given in the alternate solution below) is to only gather the embeddings of the observed pairs, then compute their dot products. The memory cost is $O(|\\Omega| d)$ where $d$ is the embedding dimension. In our case, $|\\Omega| = 10^5$, and the embedding dimension is on the order of $10$, so the memory cost of both methods is comparable. But when the number of users or movies is much larger, the first approach becomes infeasible."
   ]
  },
  {
   "cell_type": "code",
   "execution_count": 146,
   "metadata": {
    "id": "6Z0m3dL88Uxd"
   },
   "outputs": [],
   "source": [
    "# @title Alternate Solution\n",
    "def sparse_mean_square_error(sparse_ratings, user_embeddings, movie_embeddings):\n",
    "    \"\"\"\n",
    "    Args:\n",
    "      sparse_ratings: A SparseTensor rating matrix, of dense_shape [N, M]\n",
    "      user_embeddings: A dense Tensor U of shape [N, k] where k is the embedding\n",
    "        dimension, such that U_i is the embedding of user i.\n",
    "      movie_embeddings: A dense Tensor V of shape [M, k] where k is the embedding\n",
    "        dimension, such that V_j is the embedding of movie j.\n",
    "    Returns:\n",
    "      A scalar Tensor representing the MSE between the true ratings and the\n",
    "        model's predictions.\n",
    "    \"\"\"\n",
    "    predictions = tf.reduce_sum(\n",
    "        tf.gather(user_embeddings, sparse_ratings.indices[:, 0])\n",
    "        * tf.gather(movie_embeddings, sparse_ratings.indices[:, 1]),\n",
    "        axis=1,\n",
    "    )\n",
    "    loss = tf.losses.mean_squared_error(sparse_ratings.values, predictions)\n",
    "    return loss"
   ]
  },
  {
   "cell_type": "markdown",
   "metadata": {
    "id": "X0X56mAlo4tf"
   },
   "source": [
    "### Exercise 3 (Optional): adding your own ratings to the data set"
   ]
  },
  {
   "cell_type": "markdown",
   "metadata": {
    "id": "o8VazvWLo4tf"
   },
   "source": [
    "You have the option to add your own ratings to the data set. If you choose to do so, you will be able to see recommendations for yourself.\n",
    "\n",
    "Start by checking the box below. Running the next cell will authenticate you to your google Drive account, and create a spreadsheet, that contains all movie titles in column 'A'. Follow the link to the spreadsheet and take 3 minutes to rate some of the movies. Your ratings should be entered in column 'B'."
   ]
  },
  {
   "cell_type": "code",
   "execution_count": 147,
   "metadata": {
    "cellView": "form",
    "id": "ILiSj-x6o4tf"
   },
   "outputs": [],
   "source": [
    "USER_RATINGS = True  # @param {type:\"boolean\"}"
   ]
  },
  {
   "cell_type": "code",
   "execution_count": 148,
   "metadata": {
    "id": "TOVDyYHgo4th"
   },
   "outputs": [
    {
     "ename": "NameError",
     "evalue": "name 'auth' is not defined",
     "output_type": "error",
     "traceback": [
      "\u001b[0;31m---------------------------------------------------------------------------\u001b[0m",
      "\u001b[0;31mNameError\u001b[0m                                 Traceback (most recent call last)",
      "Cell \u001b[0;32mIn[148], line 4\u001b[0m\n\u001b[1;32m      1\u001b[0m \u001b[38;5;66;03m# @title Run to create a spreadsheet, then use it to enter your ratings.\u001b[39;00m\n\u001b[1;32m      2\u001b[0m \u001b[38;5;66;03m# Authenticate user.\u001b[39;00m\n\u001b[1;32m      3\u001b[0m \u001b[38;5;28;01mif\u001b[39;00m USER_RATINGS:\n\u001b[0;32m----> 4\u001b[0m     \u001b[43mauth\u001b[49m\u001b[38;5;241m.\u001b[39mauthenticate_user()\n\u001b[1;32m      5\u001b[0m     gc \u001b[38;5;241m=\u001b[39m gspread\u001b[38;5;241m.\u001b[39mauthorize(GoogleCredentials\u001b[38;5;241m.\u001b[39mget_application_default())\n\u001b[1;32m      6\u001b[0m     \u001b[38;5;66;03m# Create the spreadsheet and print a link to it.\u001b[39;00m\n",
      "\u001b[0;31mNameError\u001b[0m: name 'auth' is not defined"
     ]
    }
   ],
   "source": [
    "# @title Run to create a spreadsheet, then use it to enter your ratings.\n",
    "# Authenticate user.\n",
    "if USER_RATINGS:\n",
    "    auth.authenticate_user()\n",
    "    gc = gspread.authorize(GoogleCredentials.get_application_default())\n",
    "    # Create the spreadsheet and print a link to it.\n",
    "    try:\n",
    "        sh = gc.open(\"MovieLens-test\")\n",
    "    except (gspread.SpreadsheetNotFound):\n",
    "        sh = gc.create(\"MovieLens-test\")\n",
    "\n",
    "    worksheet = sh.sheet1\n",
    "    titles = movies[\"title\"].values\n",
    "    cell_list = worksheet.range(1, 1, len(titles), 1)\n",
    "    for cell, title in zip(cell_list, titles):\n",
    "        cell.value = title\n",
    "    worksheet.update_cells(cell_list)\n",
    "    print(\n",
    "        \"Link to the spreadsheet: \"\n",
    "        \"https://docs.google.com/spreadsheets/d/{}/edit\".format(sh.id)\n",
    "    )"
   ]
  },
  {
   "cell_type": "markdown",
   "metadata": {
    "id": "WDj7GoEPo4ti"
   },
   "source": [
    "Run the next  cell to load your ratings and add them to the main `ratings` DataFrame."
   ]
  },
  {
   "cell_type": "code",
   "execution_count": 149,
   "metadata": {
    "id": "Ubuf5ba3o4ti"
   },
   "outputs": [
    {
     "ename": "NameError",
     "evalue": "name 'worksheet' is not defined",
     "output_type": "error",
     "traceback": [
      "\u001b[0;31m---------------------------------------------------------------------------\u001b[0m",
      "\u001b[0;31mNameError\u001b[0m                                 Traceback (most recent call last)",
      "Cell \u001b[0;32mIn[149], line 4\u001b[0m\n\u001b[1;32m      1\u001b[0m \u001b[38;5;66;03m# @title Run to load your ratings.\u001b[39;00m\n\u001b[1;32m      2\u001b[0m \u001b[38;5;66;03m# Load the ratings from the spreadsheet and create a DataFrame.\u001b[39;00m\n\u001b[1;32m      3\u001b[0m \u001b[38;5;28;01mif\u001b[39;00m USER_RATINGS:\n\u001b[0;32m----> 4\u001b[0m     my_ratings \u001b[38;5;241m=\u001b[39m pd\u001b[38;5;241m.\u001b[39mDataFrame\u001b[38;5;241m.\u001b[39mfrom_records(\u001b[43mworksheet\u001b[49m\u001b[38;5;241m.\u001b[39mget_all_values())\u001b[38;5;241m.\u001b[39mreset_index()\n\u001b[1;32m      5\u001b[0m     my_ratings \u001b[38;5;241m=\u001b[39m my_ratings[my_ratings[\u001b[38;5;241m1\u001b[39m] \u001b[38;5;241m!=\u001b[39m \u001b[38;5;124m\"\u001b[39m\u001b[38;5;124m\"\u001b[39m]\n\u001b[1;32m      6\u001b[0m     my_ratings \u001b[38;5;241m=\u001b[39m pd\u001b[38;5;241m.\u001b[39mDataFrame(\n\u001b[1;32m      7\u001b[0m         {\n\u001b[1;32m      8\u001b[0m             \u001b[38;5;124m\"\u001b[39m\u001b[38;5;124muser_id\u001b[39m\u001b[38;5;124m\"\u001b[39m: \u001b[38;5;124m\"\u001b[39m\u001b[38;5;124m943\u001b[39m\u001b[38;5;124m\"\u001b[39m,\n\u001b[0;32m   (...)\u001b[0m\n\u001b[1;32m     11\u001b[0m         }\n\u001b[1;32m     12\u001b[0m     )\n",
      "\u001b[0;31mNameError\u001b[0m: name 'worksheet' is not defined"
     ]
    }
   ],
   "source": [
    "# @title Run to load your ratings.\n",
    "# Load the ratings from the spreadsheet and create a DataFrame.\n",
    "if USER_RATINGS:\n",
    "    my_ratings = pd.DataFrame.from_records(worksheet.get_all_values()).reset_index()\n",
    "    my_ratings = my_ratings[my_ratings[1] != \"\"]\n",
    "    my_ratings = pd.DataFrame(\n",
    "        {\n",
    "            \"user_id\": \"943\",\n",
    "            \"movie_id\": list(map(str, my_ratings[\"index\"])),\n",
    "            \"rating\": list(map(float, my_ratings[1])),\n",
    "        }\n",
    "    )\n",
    "    # Remove previous ratings.\n",
    "    ratings = ratings[ratings.user_id != \"943\"]\n",
    "    # Add new ratings.\n",
    "    ratings = ratings.append(my_ratings, ignore_index=True)\n",
    "    # Add new user to the users DataFrame.\n",
    "    if users.shape[0] == 943:\n",
    "        users = users.append(users.iloc[942], ignore_index=True)\n",
    "        users[\"user_id\"][943] = \"943\"\n",
    "    print(\"Added your %d ratings; you have great taste!\" % len(my_ratings))\n",
    "    ratings[ratings.user_id == \"943\"].merge(movies[[\"movie_id\", \"title\"]])"
   ]
  },
  {
   "cell_type": "markdown",
   "metadata": {
    "id": "eSfW6SwIo4tk"
   },
   "source": [
    "# III. Training a Matrix Factorization model\n",
    "\n",
    "## CFModel (Collaborative Filtering Model) helper class\n",
    "This is a simple class to train a matrix factorization model using stochastic gradient descent.\n",
    "\n",
    "The class constructor takes\n",
    "- the user embeddings U (a `tf.Variable`).\n",
    "- the movie embeddings V, (a `tf.Variable`).\n",
    "- a loss to optimize (a `tf.Tensor`).\n",
    "- an optional list of metrics dictionaries, each mapping a string (the name of the metric) to a tensor. These are evaluated and plotted during training (e.g. training error and test error).\n",
    "\n",
    "After training, one can access the trained embeddings using the `model.embeddings` dictionary.\n",
    "\n",
    "Example usage:\n",
    "```\n",
    "U_var = ...\n",
    "V_var = ...\n",
    "loss = ...\n",
    "model = CFModel(U_var, V_var, loss)\n",
    "model.train(iterations=100, learning_rate=1.0)\n",
    "user_embeddings = model.embeddings['user_id']\n",
    "movie_embeddings = model.embeddings['movie_id']\n",
    "```\n"
   ]
  },
  {
   "cell_type": "code",
   "execution_count": 150,
   "metadata": {
    "id": "6NHoOwido4tk"
   },
   "outputs": [],
   "source": [
    "# @title CFModel helper class (run this cell)\n",
    "class CFModel(object):\n",
    "    \"\"\"Simple class that represents a collaborative filtering model\"\"\"\n",
    "\n",
    "    def __init__(self, embedding_vars, loss, metrics=None):\n",
    "        \"\"\"Initializes a CFModel.\n",
    "        Args:\n",
    "          embedding_vars: A dictionary of tf.Variables.\n",
    "          loss: A float Tensor. The loss to optimize.\n",
    "          metrics: optional list of dictionaries of Tensors. The metrics in each\n",
    "            dictionary will be plotted in a separate figure during training.\n",
    "        \"\"\"\n",
    "        self._embedding_vars = embedding_vars\n",
    "        self._loss = loss\n",
    "        self._metrics = metrics\n",
    "        self._embeddings = {k: None for k in embedding_vars}\n",
    "        self._session = None\n",
    "\n",
    "    @property\n",
    "    def embeddings(self):\n",
    "        \"\"\"The embeddings dictionary.\"\"\"\n",
    "        return self._embeddings\n",
    "\n",
    "    def train(\n",
    "        self,\n",
    "        num_iterations=100,\n",
    "        learning_rate=1.0,\n",
    "        plot_results=True,\n",
    "        optimizer=tf.train.GradientDescentOptimizer,\n",
    "    ):\n",
    "        \"\"\"Trains the model.\n",
    "        Args:\n",
    "          iterations: number of iterations to run.\n",
    "          learning_rate: optimizer learning rate.\n",
    "          plot_results: whether to plot the results at the end of training.\n",
    "          optimizer: the optimizer to use. Default to GradientDescentOptimizer.\n",
    "        Returns:\n",
    "          The metrics dictionary evaluated at the last iteration.\n",
    "        \"\"\"\n",
    "        with self._loss.graph.as_default():\n",
    "            opt = optimizer(learning_rate)\n",
    "            train_op = opt.minimize(self._loss)\n",
    "            local_init_op = tf.group(\n",
    "                tf.variables_initializer(opt.variables()),\n",
    "                tf.local_variables_initializer(),\n",
    "            )\n",
    "            if self._session is None:\n",
    "                self._session = tf.Session()\n",
    "                with self._session.as_default():\n",
    "                    self._session.run(tf.global_variables_initializer())\n",
    "                    self._session.run(tf.tables_initializer())\n",
    "                    tf.train.start_queue_runners()\n",
    "\n",
    "        with self._session.as_default():\n",
    "            local_init_op.run()\n",
    "            iterations = []\n",
    "            metrics = self._metrics or ({},)\n",
    "            metrics_vals = [collections.defaultdict(list) for _ in self._metrics]\n",
    "\n",
    "            # Train and append results.\n",
    "            for i in range(num_iterations + 1):\n",
    "                _, results = self._session.run((train_op, metrics))\n",
    "                if (i % 10 == 0) or i == num_iterations:\n",
    "                    print(\n",
    "                        \"\\r iteration %d: \" % i\n",
    "                        + \", \".join(\n",
    "                            [\"%s=%f\" % (k, v) for r in results for k, v in r.items()]\n",
    "                        ),\n",
    "                        end=\"\",\n",
    "                    )\n",
    "                    iterations.append(i)\n",
    "                    for metric_val, result in zip(metrics_vals, results):\n",
    "                        for k, v in result.items():\n",
    "                            metric_val[k].append(v)\n",
    "\n",
    "            for k, v in self._embedding_vars.items():\n",
    "                self._embeddings[k] = v.eval()\n",
    "\n",
    "            if plot_results:\n",
    "                # Plot the metrics.\n",
    "                num_subplots = len(metrics) + 1\n",
    "                fig = plt.figure()\n",
    "                fig.set_size_inches(num_subplots * 10, 8)\n",
    "                for i, metric_vals in enumerate(metrics_vals):\n",
    "                    ax = fig.add_subplot(1, num_subplots, i + 1)\n",
    "                    for k, v in metric_vals.items():\n",
    "                        ax.plot(iterations, v, label=k)\n",
    "                    ax.set_xlim([1, num_iterations])\n",
    "                    ax.legend()\n",
    "            return results"
   ]
  },
  {
   "cell_type": "markdown",
   "metadata": {
    "id": "bKis0EyHo4tn"
   },
   "source": [
    "### Exercise 4: Build a Matrix Factorization model and train it\n",
    "\n",
    "Using your `sparse_mean_square_error` function, write a function that builds a `CFModel` by creating the embedding variables and the train and test losses."
   ]
  },
  {
   "cell_type": "code",
   "execution_count": 151,
   "metadata": {
    "id": "XzaABsnno4tn"
   },
   "outputs": [],
   "source": [
    "def build_model(ratings, embedding_dim=3, init_stddev=1.0):\n",
    "    \"\"\"\n",
    "    Args:\n",
    "      ratings: a DataFrame of the ratings\n",
    "      embedding_dim: the dimension of the embedding vectors.\n",
    "      init_stddev: float, the standard deviation of the random initial embeddings.\n",
    "    Returns:\n",
    "      model: a CFModel.\n",
    "    \"\"\"\n",
    "    # Split the ratings DataFrame into train and test.\n",
    "    train_ratings, test_ratings = split_dataframe(ratings)\n",
    "    # SparseTensor representation of the train and test datasets.\n",
    "    # ========================= Complete this section ============================\n",
    "    # A_train =\n",
    "    # A_test =\n",
    "    # ============================================================================\n",
    "    # Initialize the embeddings using a normal distribution.\n",
    "    U = tf.Variable(\n",
    "        tf.random_normal([A_train.dense_shape[0], embedding_dim], stddev=init_stddev)\n",
    "    )\n",
    "    V = tf.Variable(\n",
    "        tf.random_normal([A_train.dense_shape[1], embedding_dim], stddev=init_stddev)\n",
    "    )\n",
    "    # ========================= Complete this section ============================\n",
    "    # train_loss =\n",
    "    # test_loss =\n",
    "    # ============================================================================\n",
    "    metrics = {\"train_error\": train_loss, \"test_error\": test_loss}\n",
    "    embeddings = {\"user_id\": U, \"movie_id\": V}\n",
    "    return CFModel(embeddings, train_loss, [metrics])"
   ]
  },
  {
   "cell_type": "code",
   "execution_count": 152,
   "metadata": {
    "cellView": "form",
    "id": "M9RxIX_Oo4tp"
   },
   "outputs": [],
   "source": [
    "# @title Solution\n",
    "def build_model(ratings, embedding_dim=3, init_stddev=1.0):\n",
    "    \"\"\"\n",
    "    Args:\n",
    "      ratings: a DataFrame of the ratings\n",
    "      embedding_dim: the dimension of the embedding vectors.\n",
    "      init_stddev: float, the standard deviation of the random initial embeddings.\n",
    "    Returns:\n",
    "      model: a CFModel.\n",
    "    \"\"\"\n",
    "    # Split the ratings DataFrame into train and test.\n",
    "    train_ratings, test_ratings = split_dataframe(ratings)\n",
    "    # SparseTensor representation of the train and test datasets.\n",
    "    A_train = build_rating_sparse_tensor(train_ratings)\n",
    "    A_test = build_rating_sparse_tensor(test_ratings)\n",
    "    # Initialize the embeddings using a normal distribution.\n",
    "    U = tf.Variable(\n",
    "        tf.random_normal([A_train.dense_shape[0], embedding_dim], stddev=init_stddev)\n",
    "    )\n",
    "    V = tf.Variable(\n",
    "        tf.random_normal([A_train.dense_shape[1], embedding_dim], stddev=init_stddev)\n",
    "    )\n",
    "    train_loss = sparse_mean_square_error(A_train, U, V)\n",
    "    test_loss = sparse_mean_square_error(A_test, U, V)\n",
    "    metrics = {\"train_error\": train_loss, \"test_error\": test_loss}\n",
    "    embeddings = {\"user_id\": U, \"movie_id\": V}\n",
    "    return CFModel(embeddings, train_loss, [metrics])"
   ]
  },
  {
   "cell_type": "markdown",
   "metadata": {
    "id": "mHMTVERDo4ts"
   },
   "source": [
    "Great, now it's time to train the model!\n",
    "\n",
    "Go ahead and run the next cell, trying different parameters (embedding dimension, learning rate, iterations). The training and test errors are plotted at the end of training. You can inspect these values to validate the hyper-parameters.\n",
    "\n",
    "Note: by calling `model.train` again, the model will continue training starting from the current values of the embeddings."
   ]
  },
  {
   "cell_type": "code",
   "execution_count": 153,
   "metadata": {
    "id": "_BlRIQJYo4tt"
   },
   "outputs": [
    {
     "name": "stderr",
     "output_type": "stream",
     "text": [
      "2022-12-28 10:09:43.448326: I tensorflow/compiler/mlir/mlir_graph_optimization_pass.cc:357] MLIR V1 optimization pass is not enabled\n",
      "2022-12-28 10:09:43.456202: W tensorflow/tsl/platform/profile_utils/cpu_utils.cc:128] Failed to get CPU frequency: 0 Hz\n"
     ]
    },
    {
     "name": "stdout",
     "output_type": "stream",
     "text": [
      " iteration 1000: train_error=0.375867, test_error=1.379012"
     ]
    },
    {
     "data": {
      "text/plain": [
       "[{'train_error': 0.3758673, 'test_error': 1.3790116}]"
      ]
     },
     "execution_count": 153,
     "metadata": {},
     "output_type": "execute_result"
    },
    {
     "data": {
      "image/png": "[encoded data removed]",
      "text/plain": [
       "<Figure size 2000x800 with 1 Axes>"
      ]
     },
     "metadata": {},
     "output_type": "display_data"
    }
   ],
   "source": [
    "# Build the CF model and train it.\n",
    "model = build_model(ratings, embedding_dim=30, init_stddev=0.5)\n",
    "model.train(num_iterations=1000, learning_rate=10.0)"
   ]
  },
  {
   "cell_type": "markdown",
   "metadata": {
    "id": "-RWinHdno4tu"
   },
   "source": [
    "The movie and user embeddings are also displayed in the right figure. When the embedding dimension is greater than 3, the embeddings are projected on the first 3 dimensions. The next section will have a more detailed look at the embeddings."
   ]
  },
  {
   "cell_type": "markdown",
   "metadata": {
    "id": "IO1r1A5Xo4tu"
   },
   "source": [
    "# IV. Inspecting the Embeddings\n",
    "\n",
    "In this section, we take a closer look at the learned embeddings, by\n",
    "- computing your recommendations\n",
    "- looking at the nearest neighbors of some movies,\n",
    "- looking at the norms of the movie embeddings,\n",
    "- visualizing the embedding in a projected embedding space."
   ]
  },
  {
   "cell_type": "markdown",
   "metadata": {
    "id": "8Z3q8xZVo4tw"
   },
   "source": [
    "### Exercise 5: Write a function that computes the scores of the candidates\n",
    "We start by writing a function that, given a query embedding $u \\in \\mathbb R^d$ and item embeddings $V \\in \\mathbb R^{N \\times d}$, computes the item scores.\n",
    "\n",
    "As discussed in the lecture, there are different similarity measures we can use, and these can yield different results. We will compare the following:\n",
    "- dot product: the score of item j is $\\langle u, V_j \\rangle$.\n",
    "- cosine: the score of item j is $\\frac{\\langle u, V_j \\rangle}{\\|u\\|\\|V_j\\|}$.\n",
    "\n",
    "Hints:\n",
    "- you can use [`np.dot`](https://docs.scipy.org/doc/numpy/reference/generated/numpy.dot.html) to compute the product of two np.Arrays.\n",
    "- you can use [`np.linalg.norm`](https://docs.scipy.org/doc/numpy-1.14.0/reference/generated/numpy.linalg.norm.html) to compute the norm of a np.Array."
   ]
  },
  {
   "cell_type": "code",
   "execution_count": 154,
   "metadata": {
    "id": "lBnrZUspo4tx"
   },
   "outputs": [],
   "source": [
    "DOT = \"dot\"\n",
    "COSINE = \"cosine\"\n",
    "\n",
    "\n",
    "def compute_scores(query_embedding, item_embeddings, measure=DOT):\n",
    "    \"\"\"Computes the scores of the candidates given a query.\n",
    "    Args:\n",
    "      query_embedding: a vector of shape [k], representing the query embedding.\n",
    "      item_embeddings: a matrix of shape [N, k], such that row i is the embedding\n",
    "        of item i.\n",
    "      measure: a string specifying the similarity measure to be used. Can be\n",
    "        either DOT or COSINE.\n",
    "    Returns:\n",
    "      scores: a vector of shape [N], such that scores[i] is the score of item i.\n",
    "    \"\"\"\n",
    "    # ========================= Complete this section ============================\n",
    "    # scores =\n",
    "    # ============================================================================\n",
    "    return scores"
   ]
  },
  {
   "cell_type": "code",
   "execution_count": 155,
   "metadata": {
    "cellView": "form",
    "id": "PqDjkdlFo4t0"
   },
   "outputs": [],
   "source": [
    "# @title Solution\n",
    "DOT = \"dot\"\n",
    "COSINE = \"cosine\"\n",
    "\n",
    "\n",
    "def compute_scores(query_embedding, item_embeddings, measure=DOT):\n",
    "    \"\"\"Computes the scores of the candidates given a query.\n",
    "    Args:\n",
    "      query_embedding: a vector of shape [k], representing the query embedding.\n",
    "      item_embeddings: a matrix of shape [N, k], such that row i is the embedding\n",
    "        of item i.\n",
    "      measure: a string specifying the similarity measure to be used. Can be\n",
    "        either DOT or COSINE.\n",
    "    Returns:\n",
    "      scores: a vector of shape [N], such that scores[i] is the score of item i.\n",
    "    \"\"\"\n",
    "    u = query_embedding\n",
    "    V = item_embeddings\n",
    "    if measure == COSINE:\n",
    "        V = V / np.linalg.norm(V, axis=1, keepdims=True)\n",
    "        u = u / np.linalg.norm(u)\n",
    "    scores = u.dot(V.T)\n",
    "    return scores"
   ]
  },
  {
   "cell_type": "markdown",
   "metadata": {
    "id": "EDpSY1REo4t1"
   },
   "source": [
    "Equipped with this function, we can compute recommendations, where the query embedding can be either a user embedding or a movie embedding."
   ]
  },
  {
   "cell_type": "code",
   "execution_count": 156,
   "metadata": {
    "id": "6dSF9U1fo4t2"
   },
   "outputs": [],
   "source": [
    "# @title User recommendations and nearest neighbors (run this cell)\n",
    "def user_recommendations(model, measure=DOT, exclude_rated=False, k=6):\n",
    "    if USER_RATINGS:\n",
    "        scores = compute_scores(\n",
    "            model.embeddings[\"user_id\"][943], model.embeddings[\"movie_id\"], measure\n",
    "        )\n",
    "        score_key = measure + \" score\"\n",
    "        df = pd.DataFrame(\n",
    "            {\n",
    "                score_key: list(scores),\n",
    "                \"movie_id\": movies[\"movie_id\"],\n",
    "                \"titles\": movies[\"title\"],\n",
    "                \"genres\": movies[\"all_genres\"],\n",
    "            }\n",
    "        )\n",
    "        if exclude_rated:\n",
    "            # remove movies that are already rated\n",
    "            rated_movies = ratings[ratings.user_id == \"943\"][\"movie_id\"].values\n",
    "            df = df[df.movie_id.apply(lambda movie_id: movie_id not in rated_movies)]\n",
    "        display.display(df.sort_values([score_key], ascending=False).head(k))\n",
    "\n",
    "\n",
    "def movie_neighbors(model, title_substring, measure=DOT, k=6):\n",
    "    # Search for movie ids that match the given substring.\n",
    "    ids = movies[movies[\"title\"].str.contains(title_substring)].index.values\n",
    "    titles = movies.iloc[ids][\"title\"].values\n",
    "    if len(titles) == 0:\n",
    "        raise ValueError(\"Found no movies with title %s\" % title_substring)\n",
    "    print(\"Nearest neighbors of : %s.\" % titles[0])\n",
    "    if len(titles) > 1:\n",
    "        print(\n",
    "            \"[Found more than one matching movie. Other candidates: {}]\".format(\n",
    "                \", \".join(titles[1:])\n",
    "            )\n",
    "        )\n",
    "    movie_id = ids[0]\n",
    "    scores = compute_scores(\n",
    "        model.embeddings[\"movie_id\"][movie_id], model.embeddings[\"movie_id\"], measure\n",
    "    )\n",
    "    score_key = measure + \" score\"\n",
    "    df = pd.DataFrame(\n",
    "        {\n",
    "            score_key: list(scores),\n",
    "            \"titles\": movies[\"title\"],\n",
    "            \"genres\": movies[\"all_genres\"],\n",
    "        }\n",
    "    )\n",
    "    display(df.sort_values([score_key], ascending=False).head(k))"
   ]
  },
  {
   "cell_type": "markdown",
   "metadata": {
    "id": "iOwtUnJzo4t3"
   },
   "source": [
    "### Your recommendations\n",
    "\n",
    "If you chose to input your recommendations, you can run the next cell to generate recommendations for you."
   ]
  },
  {
   "cell_type": "code",
   "execution_count": 157,
   "metadata": {
    "id": "efvKEUOPo4t4"
   },
   "outputs": [
    {
     "ename": "IndexError",
     "evalue": "index 943 is out of bounds for axis 0 with size 943",
     "output_type": "error",
     "traceback": [
      "\u001b[0;31m---------------------------------------------------------------------------\u001b[0m",
      "\u001b[0;31mIndexError\u001b[0m                                Traceback (most recent call last)",
      "Cell \u001b[0;32mIn[157], line 1\u001b[0m\n\u001b[0;32m----> 1\u001b[0m \u001b[43muser_recommendations\u001b[49m\u001b[43m(\u001b[49m\u001b[43mmodel\u001b[49m\u001b[43m,\u001b[49m\u001b[43m \u001b[49m\u001b[43mmeasure\u001b[49m\u001b[38;5;241;43m=\u001b[39;49m\u001b[43mCOSINE\u001b[49m\u001b[43m,\u001b[49m\u001b[43m \u001b[49m\u001b[43mk\u001b[49m\u001b[38;5;241;43m=\u001b[39;49m\u001b[38;5;241;43m5\u001b[39;49m\u001b[43m)\u001b[49m\n",
      "Cell \u001b[0;32mIn[156], line 5\u001b[0m, in \u001b[0;36muser_recommendations\u001b[0;34m(model, measure, exclude_rated, k)\u001b[0m\n\u001b[1;32m      2\u001b[0m \u001b[38;5;28;01mdef\u001b[39;00m \u001b[38;5;21muser_recommendations\u001b[39m(model, measure\u001b[38;5;241m=\u001b[39mDOT, exclude_rated\u001b[38;5;241m=\u001b[39m\u001b[38;5;28;01mFalse\u001b[39;00m, k\u001b[38;5;241m=\u001b[39m\u001b[38;5;241m6\u001b[39m):\n\u001b[1;32m      3\u001b[0m     \u001b[38;5;28;01mif\u001b[39;00m USER_RATINGS:\n\u001b[1;32m      4\u001b[0m         scores \u001b[38;5;241m=\u001b[39m compute_scores(\n\u001b[0;32m----> 5\u001b[0m             \u001b[43mmodel\u001b[49m\u001b[38;5;241;43m.\u001b[39;49m\u001b[43membeddings\u001b[49m\u001b[43m[\u001b[49m\u001b[38;5;124;43m\"\u001b[39;49m\u001b[38;5;124;43muser_id\u001b[39;49m\u001b[38;5;124;43m\"\u001b[39;49m\u001b[43m]\u001b[49m\u001b[43m[\u001b[49m\u001b[38;5;241;43m943\u001b[39;49m\u001b[43m]\u001b[49m, model\u001b[38;5;241m.\u001b[39membeddings[\u001b[38;5;124m\"\u001b[39m\u001b[38;5;124mmovie_id\u001b[39m\u001b[38;5;124m\"\u001b[39m], measure\n\u001b[1;32m      6\u001b[0m         )\n\u001b[1;32m      7\u001b[0m         score_key \u001b[38;5;241m=\u001b[39m measure \u001b[38;5;241m+\u001b[39m \u001b[38;5;124m\"\u001b[39m\u001b[38;5;124m score\u001b[39m\u001b[38;5;124m\"\u001b[39m\n\u001b[1;32m      8\u001b[0m         df \u001b[38;5;241m=\u001b[39m pd\u001b[38;5;241m.\u001b[39mDataFrame(\n\u001b[1;32m      9\u001b[0m             {\n\u001b[1;32m     10\u001b[0m                 score_key: \u001b[38;5;28mlist\u001b[39m(scores),\n\u001b[0;32m   (...)\u001b[0m\n\u001b[1;32m     14\u001b[0m             }\n\u001b[1;32m     15\u001b[0m         )\n",
      "\u001b[0;31mIndexError\u001b[0m: index 943 is out of bounds for axis 0 with size 943"
     ]
    }
   ],
   "source": [
    "user_recommendations(model, measure=COSINE, k=5)"
   ]
  },
  {
   "cell_type": "markdown",
   "metadata": {
    "id": "msMJzGF3o4t6"
   },
   "source": [
    "How do the recommendations look?"
   ]
  },
  {
   "cell_type": "markdown",
   "metadata": {
    "id": "fFaiyCtgo4t6"
   },
   "source": [
    "### Movie Nearest neighbors\n",
    "\n",
    "Let's look at the neareast neighbors for some of the movies."
   ]
  },
  {
   "cell_type": "code",
   "execution_count": null,
   "metadata": {
    "id": "ejJHfA-so4t8"
   },
   "outputs": [],
   "source": [
    "movie_neighbors(model, \"Aladdin\", DOT)\n",
    "movie_neighbors(model, \"Aladdin\", COSINE)"
   ]
  },
  {
   "cell_type": "markdown",
   "metadata": {
    "id": "JD3X1ua8o4uA"
   },
   "source": [
    "It seems that the quality of learned embeddings may not be very good. This will be addressed in Section V by adding several regularization techniques. First, we will further inspect the embeddings."
   ]
  },
  {
   "cell_type": "markdown",
   "metadata": {
    "id": "SOxdxqpKo4uB"
   },
   "source": [
    "## Movie Embedding Norm\n",
    "\n",
    "We can also observe that the recommendations with dot-product and cosine are different: with dot-product, the model tends to recommend popular movies. This can be explained by the fact that in matrix factorization models, the norm of the embedding is often correlated with popularity (popular movies have a larger norm), which makes it more likely to recommend more popular items. We can confirm this hypothesis by sorting the movies by their embedding norm, as done in the next cell."
   ]
  },
  {
   "cell_type": "code",
   "execution_count": null,
   "metadata": {
    "cellView": "form",
    "id": "G_Kko-YxF6YE"
   },
   "outputs": [],
   "source": [
    "# @title Embedding Visualization code (run this cell)\n",
    "\n",
    "\n",
    "def movie_embedding_norm(models):\n",
    "    \"\"\"Visualizes the norm and number of ratings of the movie embeddings.\n",
    "    Args:\n",
    "      model: A MFModel object.\n",
    "    \"\"\"\n",
    "    if not isinstance(models, list):\n",
    "        models = [models]\n",
    "    df = pd.DataFrame(\n",
    "        {\n",
    "            \"title\": movies[\"title\"],\n",
    "            \"genre\": movies[\"genre\"],\n",
    "            \"num_ratings\": movies_ratings[\"rating count\"],\n",
    "        }\n",
    "    )\n",
    "    charts = []\n",
    "    brush = alt.selection_interval()\n",
    "    for i, model in enumerate(models):\n",
    "        norm_key = \"norm\" + str(i)\n",
    "        df[norm_key] = np.linalg.norm(model.embeddings[\"movie_id\"], axis=1)\n",
    "        nearest = alt.selection(\n",
    "            type=\"single\",\n",
    "            encodings=[\"x\", \"y\"],\n",
    "            on=\"mouseover\",\n",
    "            nearest=True,\n",
    "            empty=\"none\",\n",
    "        )\n",
    "        base = (\n",
    "            alt.Chart()\n",
    "            .mark_circle()\n",
    "            .encode(\n",
    "                x=\"num_ratings\",\n",
    "                y=norm_key,\n",
    "                color=alt.condition(\n",
    "                    brush, alt.value(\"#4c78a8\"), alt.value(\"lightgray\")\n",
    "                ),\n",
    "            )\n",
    "            .properties(selection=nearest)\n",
    "            .add_selection(brush)\n",
    "        )\n",
    "        text = (\n",
    "            alt.Chart()\n",
    "            .mark_text(align=\"center\", dx=5, dy=-5)\n",
    "            .encode(\n",
    "                x=\"num_ratings\",\n",
    "                y=norm_key,\n",
    "                text=alt.condition(nearest, \"title\", alt.value(\"\")),\n",
    "            )\n",
    "        )\n",
    "        charts.append(alt.layer(base, text))\n",
    "    return alt.hconcat(*charts, data=df)\n",
    "\n",
    "\n",
    "def visualize_movie_embeddings(data, x, y):\n",
    "    nearest = alt.selection(\n",
    "        type=\"single\", encodings=[\"x\", \"y\"], on=\"mouseover\", nearest=True, empty=\"none\"\n",
    "    )\n",
    "    base = (\n",
    "        alt.Chart()\n",
    "        .mark_circle()\n",
    "        .encode(\n",
    "            x=x,\n",
    "            y=y,\n",
    "            color=alt.condition(genre_filter, \"genre\", alt.value(\"whitesmoke\")),\n",
    "        )\n",
    "        .properties(width=600, height=600, selection=nearest)\n",
    "    )\n",
    "    text = (\n",
    "        alt.Chart()\n",
    "        .mark_text(align=\"left\", dx=5, dy=-5)\n",
    "        .encode(x=x, y=y, text=alt.condition(nearest, \"title\", alt.value(\"\")))\n",
    "    )\n",
    "    return alt.hconcat(alt.layer(base, text), genre_chart, data=data)\n",
    "\n",
    "\n",
    "def tsne_movie_embeddings(model):\n",
    "    \"\"\"Visualizes the movie embeddings, projected using t-SNE with Cosine measure.\n",
    "    Args:\n",
    "      model: A MFModel object.\n",
    "    \"\"\"\n",
    "    tsne = sklearn.manifold.TSNE(\n",
    "        n_components=2,\n",
    "        perplexity=40,\n",
    "        metric=\"cosine\",\n",
    "        early_exaggeration=10.0,\n",
    "        init=\"pca\",\n",
    "        verbose=True,\n",
    "        n_iter=400,\n",
    "    )\n",
    "\n",
    "    print(\"Running t-SNE...\")\n",
    "    V_proj = tsne.fit_transform(model.embeddings[\"movie_id\"])\n",
    "    movies.loc[:, \"x\"] = V_proj[:, 0]\n",
    "    movies.loc[:, \"y\"] = V_proj[:, 1]\n",
    "    return visualize_movie_embeddings(movies, \"x\", \"y\")"
   ]
  },
  {
   "cell_type": "code",
   "execution_count": null,
   "metadata": {
    "id": "SXP_eW-Xo4uD"
   },
   "outputs": [],
   "source": [
    "movie_embedding_norm(model)"
   ]
  },
  {
   "cell_type": "markdown",
   "metadata": {
    "id": "5o1vQGyIo4uE"
   },
   "source": [
    "Note: Depending on how the model is initialized, you may observe that some niche movies (ones with few ratings) have a high norm, leading to spurious recommendations. This can happen if the embedding of that movie happens to be initialized with a high norm. Then, because the movie has few ratings, it is infrequently updated, and can keep its high norm. This will be alleviated by using regularization.\n",
    "\n",
    "Try changing the value of the hyper-parameter `init_stddev`. One quantity that can be helpful is that the expected norm of a $d$-dimensional vector with entries $\\sim \\mathcal N(0, \\sigma^2)$ is approximatley $\\sigma \\sqrt d$.\n",
    "\n",
    "How does this affect the embedding norm distribution, and the ranking of the top-norm movies?"
   ]
  },
  {
   "cell_type": "code",
   "execution_count": null,
   "metadata": {
    "id": "2I0FcjkPAoO4"
   },
   "outputs": [],
   "source": [
    "# @title Solution\n",
    "model_lowinit = build_model(ratings, embedding_dim=30, init_stddev=0.05)\n",
    "model_lowinit.train(num_iterations=1000, learning_rate=10.0)\n",
    "movie_neighbors(model_lowinit, \"Aladdin\", DOT)\n",
    "movie_neighbors(model_lowinit, \"Aladdin\", COSINE)\n",
    "movie_embedding_norm([model, model_lowinit])"
   ]
  },
  {
   "cell_type": "markdown",
   "metadata": {
    "id": "fF6dMP1To4uH"
   },
   "source": [
    "## Embedding visualization\n",
    "Since it is hard to visualize embeddings in a higher-dimensional space (when the embedding dimension $k > 3$), one approach is to project the embeddings to a lower dimensional space. T-SNE (T-distributed Stochastic Neighbor Embedding) is an algorithm that projects the embeddings while attempting to preserve their pariwise distances. It can be useful for visualization, but one should use it with care. For more information on using t-SNE, see [How to Use t-SNE Effectively](https://distill.pub/2016/misread-tsne/)."
   ]
  },
  {
   "cell_type": "code",
   "execution_count": 158,
   "metadata": {
    "id": "W6bkyeDao4uH"
   },
   "outputs": [
    {
     "ename": "NameError",
     "evalue": "name 'tsne_movie_embeddings' is not defined",
     "output_type": "error",
     "traceback": [
      "\u001b[0;31m---------------------------------------------------------------------------\u001b[0m",
      "\u001b[0;31mNameError\u001b[0m                                 Traceback (most recent call last)",
      "Cell \u001b[0;32mIn[158], line 1\u001b[0m\n\u001b[0;32m----> 1\u001b[0m \u001b[43mtsne_movie_embeddings\u001b[49m(model_lowinit)\n",
      "\u001b[0;31mNameError\u001b[0m: name 'tsne_movie_embeddings' is not defined"
     ]
    }
   ],
   "source": [
    "tsne_movie_embeddings(model_lowinit)"
   ]
  },
  {
   "cell_type": "markdown",
   "metadata": {
    "id": "y9j2Bbf8o4uI"
   },
   "source": [
    "You can highlight the embeddings of a given genre by clicking on the genres panel (SHIFT+click to select multiple genres).\n",
    "\n",
    "We can observe that the embeddings do not seem to have any notable structure, and the embeddings of a given genre are located all over the embedding space. This confirms the poor quality of the learned embeddings. One of the main reasons, which we will address in the next section, is that we only trained the model on observed pairs, and without regularization."
   ]
  },
  {
   "cell_type": "markdown",
   "metadata": {
    "id": "oPmzSUHro4uI"
   },
   "source": [
    "# V. Regularization In Matrix Factorization\n",
    "\n",
    "In the previous section, our loss was defined as the mean squared error on the observed part of the rating matrix.  As discussed in the lecture, this can be problematic as the model does not learn how to place the embeddings of irrelevant movies. This phenomenon is known as *folding*.\n",
    "\n",
    "We will add regularization terms that will address this issue. We will use two types of regularization:\n",
    "- Regularization of the model parameters. This is a common $\\ell_2$ regularization term on the embedding matrices, given by $r(U, V) =  \\frac{1}{N} \\sum_i \\|U_i\\|^2 + \\frac{1}{M}\\sum_j \\|V_j\\|^2$.\n",
    "- A global prior that pushes the prediction of any pair towards zero, called the *gravity* term. This is given by $g(U, V) = \\frac{1}{MN} \\sum_{i = 1}^N \\sum_{j = 1}^M \\langle U_i, V_j \\rangle^2$.\n",
    "\n",
    "The total loss is then given by\n",
    "$$\n",
    "\\frac{1}{|\\Omega|}\\sum_{(i, j) \\in \\Omega} (A_{ij} - \\langle U_i, V_j\\rangle)^2 + \\lambda _r r(U, V) + \\lambda_g g(U, V)\n",
    "$$\n",
    "where $\\lambda_r$ and $\\lambda_g$ are two regularization coefficients (hyper-parameters)."
   ]
  },
  {
   "cell_type": "markdown",
   "metadata": {
    "id": "Jz5bqVbFo4uJ"
   },
   "source": [
    "### Exercise 6: Build a regularized Matrix Factorization model and train it\n",
    "Write a function that builds a regularized model. You are given a function `gravity(U, V)` that computes the gravity term given the two embedding matrices $U$ and $V$.\n"
   ]
  },
  {
   "cell_type": "code",
   "execution_count": 159,
   "metadata": {
    "id": "TBv8X-fYo4uK"
   },
   "outputs": [],
   "source": [
    "def gravity(U, V):\n",
    "    \"\"\"Creates a gravity loss given two embedding matrices.\"\"\"\n",
    "    return (\n",
    "        1.0\n",
    "        / (U.shape[0].value * V.shape[0].value)\n",
    "        * tf.reduce_sum(\n",
    "            tf.matmul(U, U, transpose_a=True) * tf.matmul(V, V, transpose_a=True)\n",
    "        )\n",
    "    )\n",
    "\n",
    "\n",
    "def build_regularized_model(\n",
    "    ratings,\n",
    "    embedding_dim=3,\n",
    "    regularization_coeff=0.1,\n",
    "    gravity_coeff=1.0,\n",
    "    init_stddev=0.1,\n",
    "):\n",
    "    \"\"\"\n",
    "    Args:\n",
    "      ratings: the DataFrame of movie ratings.\n",
    "      embedding_dim: The dimension of the embedding space.\n",
    "      regularization_coeff: The regularization coefficient lambda.\n",
    "      gravity_coeff: The gravity regularization coefficient lambda_g.\n",
    "    Returns:\n",
    "      A CFModel object that uses a regularized loss.\n",
    "    \"\"\"\n",
    "    # Split the ratings DataFrame into train and test.\n",
    "    train_ratings, test_ratings = split_dataframe(ratings)\n",
    "    # SparseTensor representation of the train and test datasets.\n",
    "    A_train = build_rating_sparse_tensor(train_ratings)\n",
    "    A_test = build_rating_sparse_tensor(test_ratings)\n",
    "    U = tf.Variable(\n",
    "        tf.random_normal([A_train.dense_shape[0], embedding_dim], stddev=init_stddev)\n",
    "    )\n",
    "    V = tf.Variable(\n",
    "        tf.random_normal([A_train.dense_shape[1], embedding_dim], stddev=init_stddev)\n",
    "    )\n",
    "\n",
    "    # ========================= Complete this section ============================\n",
    "    # error_train =\n",
    "    # error_test =\n",
    "    # gravity_loss =\n",
    "    # regularization_loss =\n",
    "    # ============================================================================\n",
    "    total_loss = error_train + regularization_loss + gravity_loss\n",
    "    losses = {\n",
    "        \"train_error\": error_train,\n",
    "        \"test_error\": error_test,\n",
    "    }\n",
    "    loss_components = {\n",
    "        \"observed_loss\": error_train,\n",
    "        \"regularization_loss\": regularization_loss,\n",
    "        \"gravity_loss\": gravity_loss,\n",
    "    }\n",
    "    embeddings = {\"user_id\": U, \"movie_id\": V}\n",
    "\n",
    "    return CFModel(embeddings, total_loss, [losses, loss_components])"
   ]
  },
  {
   "cell_type": "code",
   "execution_count": 160,
   "metadata": {
    "cellView": "form",
    "id": "fhkmyFz8o4uL"
   },
   "outputs": [],
   "source": [
    "# @title Solution\n",
    "def gravity(U, V):\n",
    "    \"\"\"Creates a gravity loss given two embedding matrices.\"\"\"\n",
    "    return (\n",
    "        1.0\n",
    "        / (U.shape[0].value * V.shape[0].value)\n",
    "        * tf.reduce_sum(\n",
    "            tf.matmul(U, U, transpose_a=True) * tf.matmul(V, V, transpose_a=True)\n",
    "        )\n",
    "    )\n",
    "\n",
    "\n",
    "def build_regularized_model(\n",
    "    ratings,\n",
    "    embedding_dim=3,\n",
    "    regularization_coeff=0.1,\n",
    "    gravity_coeff=1.0,\n",
    "    init_stddev=0.1,\n",
    "):\n",
    "    \"\"\"\n",
    "    Args:\n",
    "      ratings: the DataFrame of movie ratings.\n",
    "      embedding_dim: The dimension of the embedding space.\n",
    "      regularization_coeff: The regularization coefficient lambda.\n",
    "      gravity_coeff: The gravity regularization coefficient lambda_g.\n",
    "    Returns:\n",
    "      A CFModel object that uses a regularized loss.\n",
    "    \"\"\"\n",
    "    # Split the ratings DataFrame into train and test.\n",
    "    train_ratings, test_ratings = split_dataframe(ratings)\n",
    "    # SparseTensor representation of the train and test datasets.\n",
    "    A_train = build_rating_sparse_tensor(train_ratings)\n",
    "    A_test = build_rating_sparse_tensor(test_ratings)\n",
    "    U = tf.Variable(\n",
    "        tf.random_normal([A_train.dense_shape[0], embedding_dim], stddev=init_stddev)\n",
    "    )\n",
    "    V = tf.Variable(\n",
    "        tf.random_normal([A_train.dense_shape[1], embedding_dim], stddev=init_stddev)\n",
    "    )\n",
    "\n",
    "    error_train = sparse_mean_square_error(A_train, U, V)\n",
    "    error_test = sparse_mean_square_error(A_test, U, V)\n",
    "    gravity_loss = gravity_coeff * gravity(U, V)\n",
    "    regularization_loss = regularization_coeff * (\n",
    "        tf.reduce_sum(U * U) / U.shape[0].value\n",
    "        + tf.reduce_sum(V * V) / V.shape[0].value\n",
    "    )\n",
    "    total_loss = error_train + regularization_loss + gravity_loss\n",
    "    losses = {\n",
    "        \"train_error_observed\": error_train,\n",
    "        \"test_error_observed\": error_test,\n",
    "    }\n",
    "    loss_components = {\n",
    "        \"observed_loss\": error_train,\n",
    "        \"regularization_loss\": regularization_loss,\n",
    "        \"gravity_loss\": gravity_loss,\n",
    "    }\n",
    "    embeddings = {\"user_id\": U, \"movie_id\": V}\n",
    "\n",
    "    return CFModel(embeddings, total_loss, [losses, loss_components])"
   ]
  },
  {
   "cell_type": "markdown",
   "metadata": {
    "id": "Pls1FspbFpzl"
   },
   "source": [
    "It is now time to train the regularized model! You can try different values of the regularization coefficients, and different embedding dimensions."
   ]
  },
  {
   "cell_type": "code",
   "execution_count": 161,
   "metadata": {
    "id": "fgtnpletSjVg"
   },
   "outputs": [
    {
     "name": "stdout",
     "output_type": "stream",
     "text": [
      " iteration 2000: train_error_observed=1.000070, test_error_observed=2.448804, observed_loss=1.000070, regularization_loss=0.854216, gravity_loss=1.3150794"
     ]
    },
    {
     "data": {
      "text/plain": [
       "[{'train_error_observed': 1.0000702, 'test_error_observed': 2.4488044},\n",
       " {'observed_loss': 1.0000702,\n",
       "  'regularization_loss': 0.85421556,\n",
       "  'gravity_loss': 1.3150789}]"
      ]
     },
     "execution_count": 161,
     "metadata": {},
     "output_type": "execute_result"
    },
    {
     "data": {
      "image/png": "[encoded data removed]",
      "text/plain": [
       "<Figure size 3000x800 with 2 Axes>"
      ]
     },
     "metadata": {},
     "output_type": "display_data"
    }
   ],
   "source": [
    "reg_model = build_regularized_model(\n",
    "    ratings,\n",
    "    regularization_coeff=0.1,\n",
    "    gravity_coeff=1.0,\n",
    "    embedding_dim=35,\n",
    "    init_stddev=0.05,\n",
    ")\n",
    "reg_model.train(num_iterations=2000, learning_rate=20.0)"
   ]
  },
  {
   "cell_type": "markdown",
   "metadata": {
    "id": "ChIWbjRRo4uQ"
   },
   "source": [
    "Observe that adding the regularization terms results in a higher MSE, both on the training and test set. However, as we will see, the quality of the recommendations improves. This highlights a tension between fitting the observed data and minimizing the regularization terms. Fitting the observed data often emphasizes learning high similarity (between items with many interactions), but a good embedding representation also requires learning low similarity (between items with few or no interactions)."
   ]
  },
  {
   "cell_type": "markdown",
   "metadata": {
    "id": "Fqumfb5bo4uQ"
   },
   "source": [
    "### Inspect the results\n",
    "Let's see if the results with regularization look better."
   ]
  },
  {
   "cell_type": "code",
   "execution_count": 162,
   "metadata": {
    "id": "VOhUY34ao4uQ"
   },
   "outputs": [
    {
     "ename": "IndexError",
     "evalue": "index 943 is out of bounds for axis 0 with size 943",
     "output_type": "error",
     "traceback": [
      "\u001b[0;31m---------------------------------------------------------------------------\u001b[0m",
      "\u001b[0;31mIndexError\u001b[0m                                Traceback (most recent call last)",
      "Cell \u001b[0;32mIn[162], line 1\u001b[0m\n\u001b[0;32m----> 1\u001b[0m \u001b[43muser_recommendations\u001b[49m\u001b[43m(\u001b[49m\u001b[43mreg_model\u001b[49m\u001b[43m,\u001b[49m\u001b[43m \u001b[49m\u001b[43mDOT\u001b[49m\u001b[43m,\u001b[49m\u001b[43m \u001b[49m\u001b[43mexclude_rated\u001b[49m\u001b[38;5;241;43m=\u001b[39;49m\u001b[38;5;28;43;01mTrue\u001b[39;49;00m\u001b[43m,\u001b[49m\u001b[43m \u001b[49m\u001b[43mk\u001b[49m\u001b[38;5;241;43m=\u001b[39;49m\u001b[38;5;241;43m10\u001b[39;49m\u001b[43m)\u001b[49m\n",
      "Cell \u001b[0;32mIn[156], line 5\u001b[0m, in \u001b[0;36muser_recommendations\u001b[0;34m(model, measure, exclude_rated, k)\u001b[0m\n\u001b[1;32m      2\u001b[0m \u001b[38;5;28;01mdef\u001b[39;00m \u001b[38;5;21muser_recommendations\u001b[39m(model, measure\u001b[38;5;241m=\u001b[39mDOT, exclude_rated\u001b[38;5;241m=\u001b[39m\u001b[38;5;28;01mFalse\u001b[39;00m, k\u001b[38;5;241m=\u001b[39m\u001b[38;5;241m6\u001b[39m):\n\u001b[1;32m      3\u001b[0m     \u001b[38;5;28;01mif\u001b[39;00m USER_RATINGS:\n\u001b[1;32m      4\u001b[0m         scores \u001b[38;5;241m=\u001b[39m compute_scores(\n\u001b[0;32m----> 5\u001b[0m             \u001b[43mmodel\u001b[49m\u001b[38;5;241;43m.\u001b[39;49m\u001b[43membeddings\u001b[49m\u001b[43m[\u001b[49m\u001b[38;5;124;43m\"\u001b[39;49m\u001b[38;5;124;43muser_id\u001b[39;49m\u001b[38;5;124;43m\"\u001b[39;49m\u001b[43m]\u001b[49m\u001b[43m[\u001b[49m\u001b[38;5;241;43m943\u001b[39;49m\u001b[43m]\u001b[49m, model\u001b[38;5;241m.\u001b[39membeddings[\u001b[38;5;124m\"\u001b[39m\u001b[38;5;124mmovie_id\u001b[39m\u001b[38;5;124m\"\u001b[39m], measure\n\u001b[1;32m      6\u001b[0m         )\n\u001b[1;32m      7\u001b[0m         score_key \u001b[38;5;241m=\u001b[39m measure \u001b[38;5;241m+\u001b[39m \u001b[38;5;124m\"\u001b[39m\u001b[38;5;124m score\u001b[39m\u001b[38;5;124m\"\u001b[39m\n\u001b[1;32m      8\u001b[0m         df \u001b[38;5;241m=\u001b[39m pd\u001b[38;5;241m.\u001b[39mDataFrame(\n\u001b[1;32m      9\u001b[0m             {\n\u001b[1;32m     10\u001b[0m                 score_key: \u001b[38;5;28mlist\u001b[39m(scores),\n\u001b[0;32m   (...)\u001b[0m\n\u001b[1;32m     14\u001b[0m             }\n\u001b[1;32m     15\u001b[0m         )\n",
      "\u001b[0;31mIndexError\u001b[0m: index 943 is out of bounds for axis 0 with size 943"
     ]
    }
   ],
   "source": [
    "user_recommendations(reg_model, DOT, exclude_rated=True, k=10)"
   ]
  },
  {
   "cell_type": "markdown",
   "metadata": {
    "id": "cnL9h2pco4uR"
   },
   "source": [
    "Hopefully, these recommendations look better. You can change the similarity measure from COSINE to DOT and observe how this affects the recommendations.\n",
    "\n",
    "Since the model is likely to recommend items that you rated highly, you have the option to exclude the items you rated, using `exclude_rated=True`.\n",
    "\n",
    "In the following cells, we display the nearest neighbors, the embedding norms, and the t-SNE projection of the movie embeddings."
   ]
  },
  {
   "cell_type": "code",
   "execution_count": null,
   "metadata": {
    "id": "NPByZUTPo4uR"
   },
   "outputs": [],
   "source": [
    "movie_neighbors(reg_model, \"Aladdin\", DOT)\n",
    "movie_neighbors(reg_model, \"Aladdin\", COSINE)"
   ]
  },
  {
   "cell_type": "markdown",
   "metadata": {
    "id": "iiL6mZcpo4uY"
   },
   "source": [
    "Here we compare the embedding norms for `model` and `reg_model`. Selecting a subset of the embeddings will highlight them on both charts simultaneously."
   ]
  },
  {
   "cell_type": "code",
   "execution_count": null,
   "metadata": {
    "id": "StMo4lDmLqpc"
   },
   "outputs": [],
   "source": [
    "movie_embedding_norm([model, model_lowinit, reg_model])"
   ]
  },
  {
   "cell_type": "code",
   "execution_count": null,
   "metadata": {
    "id": "9staddTOo4uZ"
   },
   "outputs": [],
   "source": [
    "# Visualize the embeddings\n",
    "tsne_movie_embeddings(reg_model)"
   ]
  },
  {
   "cell_type": "markdown",
   "metadata": {
    "id": "moCS2-Dfo4ua"
   },
   "source": [
    "We should observe that the embeddings have a lot more structure than the unregularized case. Try selecting different genres and observe how they tend to form clusters (for example Horror, Animation and Children).\n",
    "\n",
    "### Conclusion\n",
    "This concludes this section on matrix factorization models. Note that while the scale of the problem is small enough to allow efficient training using SGD, many practical problems need to be trained using more specialized algorithms such as Alternating Least Squares (see [tf.contrib.factorization.WALSMatrixFactorization](https://www.tensorflow.org/api_docs/python/tf/contrib/factorization/WALSMatrixFactorization) for a TF implementation)."
   ]
  },
  {
   "cell_type": "markdown",
   "metadata": {
    "id": "K7NJT9gbo4ub"
   },
   "source": [
    "# VI. Softmax model\n",
    "\n",
    "In this section, we will train a simple softmax model that predicts whether a given user has rated a movie.\n",
    "\n",
    "**Note**: if you are taking the self-study version of the class, make sure to read through the part of the class covering Softmax training before working on this part.\n",
    "\n",
    "The model will take as input a feature vector $x$ representing the list of movies the user has rated. We start from the ratings DataFrame, which we group by user_id."
   ]
  },
  {
   "cell_type": "code",
   "execution_count": null,
   "metadata": {
    "id": "JJcaNiWdo4ub"
   },
   "outputs": [],
   "source": [
    "rated_movies = (\n",
    "    ratings[[\"user_id\", \"movie_id\"]]\n",
    "    .groupby(\"user_id\", as_index=False)\n",
    "    .aggregate(lambda x: list(x))\n",
    ")\n",
    "rated_movies.head()"
   ]
  },
  {
   "cell_type": "markdown",
   "metadata": {
    "id": "X14ABp0Jo4uc"
   },
   "source": [
    "We then create a function that generates an example batch, such that each example contains the following features:\n",
    "- movie_id: A tensor of strings of the movie ids that the user rated.\n",
    "- genre: A tensor of strings of the genres of those movies\n",
    "- year: A tensor of strings of the release year."
   ]
  },
  {
   "cell_type": "code",
   "execution_count": null,
   "metadata": {
    "id": "N_IsDAEAo4ud"
   },
   "outputs": [],
   "source": [
    "# @title Batch generation code (run this cell)\n",
    "years_dict = {movie: year for movie, year in zip(movies[\"movie_id\"], movies[\"year\"])}\n",
    "genres_dict = {\n",
    "    movie: genres.split(\"-\")\n",
    "    for movie, genres in zip(movies[\"movie_id\"], movies[\"all_genres\"])\n",
    "}\n",
    "\n",
    "\n",
    "def make_batch(ratings, batch_size):\n",
    "    \"\"\"Creates a batch of examples.\n",
    "    Args:\n",
    "      ratings: A DataFrame of ratings such that examples[\"movie_id\"] is a list of\n",
    "        movies rated by a user.\n",
    "      batch_size: The batch size.\n",
    "    \"\"\"\n",
    "\n",
    "    def pad(x, fill):\n",
    "        return pd.DataFrame.from_dict(x).fillna(fill).values\n",
    "\n",
    "    movie = []\n",
    "    year = []\n",
    "    genre = []\n",
    "    label = []\n",
    "    for movie_ids in ratings[\"movie_id\"].values:\n",
    "        movie.append(movie_ids)\n",
    "        genre.append([x for movie_id in movie_ids for x in genres_dict[movie_id]])\n",
    "        year.append([years_dict[movie_id] for movie_id in movie_ids])\n",
    "        label.append([int(movie_id) for movie_id in movie_ids])\n",
    "    features = {\n",
    "        \"movie_id\": pad(movie, \"\"),\n",
    "        \"year\": pad(year, \"\"),\n",
    "        \"genre\": pad(genre, \"\"),\n",
    "        \"label\": pad(label, -1),\n",
    "    }\n",
    "    batch = (\n",
    "        tf.data.Dataset.from_tensor_slices(features)\n",
    "        .shuffle(1000)\n",
    "        .repeat()\n",
    "        .batch(batch_size)\n",
    "        .make_one_shot_iterator()\n",
    "        .get_next()\n",
    "    )\n",
    "    return batch\n",
    "\n",
    "\n",
    "def select_random(x):\n",
    "    \"\"\"Selectes a random elements from each row of x.\"\"\"\n",
    "\n",
    "    def to_float(x):\n",
    "        return tf.cast(x, tf.float32)\n",
    "\n",
    "    def to_int(x):\n",
    "        return tf.cast(x, tf.int64)\n",
    "\n",
    "    batch_size = tf.shape(x)[0]\n",
    "    rn = tf.range(batch_size)\n",
    "    nnz = to_float(tf.count_nonzero(x >= 0, axis=1))\n",
    "    rnd = tf.random_uniform([batch_size])\n",
    "    ids = tf.stack([to_int(rn), to_int(nnz * rnd)], axis=1)\n",
    "    return to_int(tf.gather_nd(x, ids))"
   ]
  },
  {
   "cell_type": "markdown",
   "metadata": {
    "id": "Yef5q1Qlo4ue"
   },
   "source": [
    "### Loss function\n",
    "Recall that the softmax model maps the input features $x$ to a user embedding $\\psi(x) \\in \\mathbb R^d$, where $d$ is the embedding dimension. This vector is then multiplied by a movie embedding matrix $V \\in \\mathbb R^{m \\times d}$ (where $m$ is the number of movies), and the final output of the model is the softmax of the product\n",
    "$$\n",
    "\\hat p(x) = \\text{softmax}(\\psi(x) V^\\top).\n",
    "$$\n",
    "Given a target label $y$, if we denote by $p = 1_y$ a one-hot encoding of this target label, then the loss is the cross-entropy between $\\hat p(x)$ and $p$."
   ]
  },
  {
   "cell_type": "markdown",
   "metadata": {
    "id": "DDnGAN_0o4ue"
   },
   "source": [
    "### Exercise 7: Write a loss function for the softmax model.\n",
    "\n",
    "In this exercise, we will write a function that takes tensors representing the user embeddings $\\psi(x)$, movie embeddings $V$, target label $y$, and return the cross-entropy loss.\n",
    "\n",
    "Hint: You can use the function [`tf.nn.sparse_softmax_cross_entropy_with_logits`](https://www.tensorflow.org/api_docs/python/tf/nn/sparse_softmax_cross_entropy_with_logits), which takes `logits` as input, where `logits` refers to the product $\\psi(x) V^\\top$."
   ]
  },
  {
   "cell_type": "code",
   "execution_count": null,
   "metadata": {
    "id": "4OKzworlo4ue"
   },
   "outputs": [],
   "source": [
    "def softmax_loss(user_embeddings, movie_embeddings, labels):\n",
    "    \"\"\"Returns the cross-entropy loss of the softmax model.\n",
    "    Args:\n",
    "      user_embeddings: A tensor of shape [batch_size, embedding_dim].\n",
    "      movie_embeddings: A tensor of shape [num_movies, embedding_dim].\n",
    "      labels: A sparse tensor of dense_shape [batch_size, 1], such that\n",
    "        labels[i] is the target label for example i.\n",
    "    Returns:\n",
    "      The mean cross-entropy loss.\n",
    "    \"\"\"\n",
    "    # ========================= Complete this section ============================\n",
    "    # logits =\n",
    "    # loss =\n",
    "    # ============================================================================\n",
    "    return loss"
   ]
  },
  {
   "cell_type": "code",
   "execution_count": null,
   "metadata": {
    "cellView": "form",
    "id": "hQNuR42eo4uf"
   },
   "outputs": [],
   "source": [
    "# @title Solution\n",
    "def softmax_loss(user_embeddings, movie_embeddings, labels):\n",
    "    \"\"\"Returns the cross-entropy loss of the softmax model.\n",
    "    Args:\n",
    "      user_embeddings: A tensor of shape [batch_size, embedding_dim].\n",
    "      movie_embeddings: A tensor of shape [num_movies, embedding_dim].\n",
    "      labels: A tensor of [batch_size], such that labels[i] is the target label\n",
    "        for example i.\n",
    "    Returns:\n",
    "      The mean cross-entropy loss.\n",
    "    \"\"\"\n",
    "    # Verify that the embddings have compatible dimensions\n",
    "    user_emb_dim = user_embeddings.shape[1].value\n",
    "    movie_emb_dim = movie_embeddings.shape[1].value\n",
    "    if user_emb_dim != movie_emb_dim:\n",
    "        raise ValueError(\n",
    "            \"The user embedding dimension %d should match the movie embedding \"\n",
    "            \"dimension % d\" % (user_emb_dim, movie_emb_dim)\n",
    "        )\n",
    "\n",
    "    logits = tf.matmul(user_embeddings, movie_embeddings, transpose_b=True)\n",
    "    loss = tf.reduce_mean(\n",
    "        tf.nn.sparse_softmax_cross_entropy_with_logits(logits=logits, labels=labels)\n",
    "    )\n",
    "    return loss"
   ]
  },
  {
   "cell_type": "markdown",
   "metadata": {
    "id": "Y9SvjO4go4ug"
   },
   "source": [
    "### Exercise 8: Build a softmax model, train it, and inspect its embeddings.\n",
    "\n",
    "We are now ready to build a softmax CFModel. Complete the `build_softmax_model` function in the next cell. The architecture of the model is defined in the function `create_user_embeddings` and illustrated in the figure below. The input embeddings (movie_id, genre and year) are concatenated to form the input layer, then we have hidden layers with dimensions specified by the `hidden_dims` argument. Finally, the last hidden layer is multiplied by the movie embeddings to obtain the logits layer. For the target label, we will use a randomly-sampled movie_id from the list of movies the user rated.\n",
    "\n",
    "![Softmax model](https://github.com/google/eng-edu/blob/master/ml/recommendation-systems/images/softmax-model.png?raw=true)\n",
    "\n",
    "Complete the function below by creating the feature columns and embedding columns, then creating the loss tensors both for the train and test sets (using the `softmax_loss` function of the previous exercise).\n"
   ]
  },
  {
   "cell_type": "code",
   "execution_count": null,
   "metadata": {
    "id": "FVa794-zbE5q"
   },
   "outputs": [],
   "source": [
    "def build_softmax_model(rated_movies, embedding_cols, hidden_dims):\n",
    "    \"\"\"Builds a Softmax model for MovieLens.\n",
    "    Args:\n",
    "      rated_movies: DataFrame of traing examples.\n",
    "      embedding_cols: A dictionary mapping feature names (string) to embedding\n",
    "        column objects. This will be used in tf.feature_column.input_layer() to\n",
    "        create the input layer.\n",
    "      hidden_dims: int list of the dimensions of the hidden layers.\n",
    "    Returns:\n",
    "      A CFModel object.\n",
    "    \"\"\"\n",
    "\n",
    "    def create_network(features):\n",
    "        \"\"\"Maps input features dictionary to user embeddings.\n",
    "        Args:\n",
    "          features: A dictionary of input string tensors.\n",
    "        Returns:\n",
    "          outputs: A tensor of shape [batch_size, embedding_dim].\n",
    "        \"\"\"\n",
    "        # Create a bag-of-words embedding for each sparse feature.\n",
    "        inputs = tf.feature_column.input_layer(features, embedding_cols)\n",
    "        # Hidden layers.\n",
    "        input_dim = inputs.shape[1].value\n",
    "        for i, output_dim in enumerate(hidden_dims):\n",
    "            w = (\n",
    "                tf.get_variable(\n",
    "                    \"hidden%d_w_\" % i,\n",
    "                    shape=[input_dim, output_dim],\n",
    "                    initializer=tf.truncated_normal_initializer(\n",
    "                        stddev=1.0 / np.sqrt(output_dim)\n",
    "                    ),\n",
    "                )\n",
    "                / 10.0\n",
    "            )\n",
    "            outputs = tf.matmul(inputs, w)\n",
    "            input_dim = output_dim\n",
    "            inputs = outputs\n",
    "        return outputs\n",
    "\n",
    "    train_rated_movies, test_rated_movies = split_dataframe(rated_movies)\n",
    "    train_batch = make_batch(train_rated_movies, 200)\n",
    "    test_batch = make_batch(test_rated_movies, 100)\n",
    "\n",
    "    with tf.variable_scope(\"model\", reuse=False):\n",
    "        # Train\n",
    "        train_user_embeddings = create_network(train_batch)\n",
    "        train_labels = select_random(train_batch[\"label\"])\n",
    "    with tf.variable_scope(\"model\", reuse=True):\n",
    "        # Test\n",
    "        test_user_embeddings = create_network(test_batch)\n",
    "        test_labels = select_random(test_batch[\"label\"])\n",
    "        movie_embeddings = tf.get_variable(\n",
    "            \"input_layer/movie_id_embedding/embedding_weights\"\n",
    "        )\n",
    "\n",
    "    # ========================= Complete this section ============================\n",
    "    # train_loss =\n",
    "    # test_loss =\n",
    "    # test_precision_at_10 =\n",
    "    # ============================================================================\n",
    "\n",
    "    metrics = (\n",
    "        {\"train_loss\": train_loss, \"test_loss\": test_loss},\n",
    "        {\"test_precision_at_10\": test_precision_at_10},\n",
    "    )\n",
    "    embeddings = {\"movie_id\": movie_embeddings}\n",
    "    return CFModel(embeddings, train_loss, metrics)"
   ]
  },
  {
   "cell_type": "code",
   "execution_count": null,
   "metadata": {
    "cellView": "form",
    "id": "zAAr73xno4uj"
   },
   "outputs": [],
   "source": [
    "# @title Solution\n",
    "\n",
    "\n",
    "def build_softmax_model(rated_movies, embedding_cols, hidden_dims):\n",
    "    \"\"\"Builds a Softmax model for MovieLens.\n",
    "    Args:\n",
    "      rated_movies: DataFrame of traing examples.\n",
    "      embedding_cols: A dictionary mapping feature names (string) to embedding\n",
    "        column objects. This will be used in tf.feature_column.input_layer() to\n",
    "        create the input layer.\n",
    "      hidden_dims: int list of the dimensions of the hidden layers.\n",
    "    Returns:\n",
    "      A CFModel object.\n",
    "    \"\"\"\n",
    "\n",
    "    def create_network(features):\n",
    "        \"\"\"Maps input features dictionary to user embeddings.\n",
    "        Args:\n",
    "          features: A dictionary of input string tensors.\n",
    "        Returns:\n",
    "          outputs: A tensor of shape [batch_size, embedding_dim].\n",
    "        \"\"\"\n",
    "        # Create a bag-of-words embedding for each sparse feature.\n",
    "        inputs = tf.feature_column.input_layer(features, embedding_cols)\n",
    "        # Hidden layers.\n",
    "        input_dim = inputs.shape[1].value\n",
    "        for i, output_dim in enumerate(hidden_dims):\n",
    "            w = (\n",
    "                tf.get_variable(\n",
    "                    \"hidden%d_w_\" % i,\n",
    "                    shape=[input_dim, output_dim],\n",
    "                    initializer=tf.truncated_normal_initializer(\n",
    "                        stddev=1.0 / np.sqrt(output_dim)\n",
    "                    ),\n",
    "                )\n",
    "                / 10.0\n",
    "            )\n",
    "            outputs = tf.matmul(inputs, w)\n",
    "            input_dim = output_dim\n",
    "            inputs = outputs\n",
    "        return outputs\n",
    "\n",
    "    train_rated_movies, test_rated_movies = split_dataframe(rated_movies)\n",
    "    train_batch = make_batch(train_rated_movies, 200)\n",
    "    test_batch = make_batch(test_rated_movies, 100)\n",
    "\n",
    "    with tf.variable_scope(\"model\", reuse=False):\n",
    "        # Train\n",
    "        train_user_embeddings = create_network(train_batch)\n",
    "        train_labels = select_random(train_batch[\"label\"])\n",
    "    with tf.variable_scope(\"model\", reuse=True):\n",
    "        # Test\n",
    "        test_user_embeddings = create_network(test_batch)\n",
    "        test_labels = select_random(test_batch[\"label\"])\n",
    "        movie_embeddings = tf.get_variable(\n",
    "            \"input_layer/movie_id_embedding/embedding_weights\"\n",
    "        )\n",
    "\n",
    "    test_loss = softmax_loss(test_user_embeddings, movie_embeddings, test_labels)\n",
    "    train_loss = softmax_loss(train_user_embeddings, movie_embeddings, train_labels)\n",
    "    _, test_precision_at_10 = tf.metrics.precision_at_k(\n",
    "        labels=test_labels,\n",
    "        predictions=tf.matmul(test_user_embeddings, movie_embeddings, transpose_b=True),\n",
    "        k=10,\n",
    "    )\n",
    "\n",
    "    metrics = (\n",
    "        {\"train_loss\": train_loss, \"test_loss\": test_loss},\n",
    "        {\"test_precision_at_10\": test_precision_at_10},\n",
    "    )\n",
    "    embeddings = {\"movie_id\": movie_embeddings}\n",
    "    return CFModel(embeddings, train_loss, metrics)"
   ]
  },
  {
   "cell_type": "markdown",
   "metadata": {
    "id": "VZB1J8l9o4ul"
   },
   "source": [
    "### Train the Softmax model\n",
    "\n",
    "We are now ready to train the softmax model. You can set the following hyperparameters:\n",
    "- learning rate\n",
    "- number of iterations. Note: you can run `softmax_model.train()` again to continue training the model from its current state.\n",
    "- input embedding dimensions (the `input_dims` argument)\n",
    "- number of hidden layers and size of each layer (the `hidden_dims` argument)\n",
    "\n",
    "Note: since our input features are string-valued (movie_id, genre, and year), we need to map them to integer ids. This is done using [`tf.feature_column.categorical_column_with_vocabulary_list`](https://www.tensorflow.org/api_docs/python/tf/feature_column/categorical_column_with_vocabulary_list), which takes a vocabulary list specifying all the values the feature can take. Then each id is mapped to an embedding vector using [`tf.feature_column.embedding_column`](https://www.tensorflow.org/api_docs/python/tf/feature_column/embedding_column).\n"
   ]
  },
  {
   "cell_type": "code",
   "execution_count": null,
   "metadata": {
    "id": "jJsXAS_go4ul"
   },
   "outputs": [],
   "source": [
    "# Create feature embedding columns\n",
    "def make_embedding_col(key, embedding_dim):\n",
    "    categorical_col = tf.feature_column.categorical_column_with_vocabulary_list(\n",
    "        key=key, vocabulary_list=list(set(movies[key].values)), num_oov_buckets=0\n",
    "    )\n",
    "    return tf.feature_column.embedding_column(\n",
    "        categorical_column=categorical_col,\n",
    "        dimension=embedding_dim,\n",
    "        # default initializer: trancated normal with stddev=1/sqrt(dimension)\n",
    "        combiner=\"mean\",\n",
    "    )\n",
    "\n",
    "\n",
    "with tf.Graph().as_default():\n",
    "    softmax_model = build_softmax_model(\n",
    "        rated_movies,\n",
    "        embedding_cols=[\n",
    "            make_embedding_col(\"movie_id\", 35),\n",
    "            make_embedding_col(\"genre\", 3),\n",
    "            make_embedding_col(\"year\", 2),\n",
    "        ],\n",
    "        hidden_dims=[35],\n",
    "    )\n",
    "\n",
    "softmax_model.train(\n",
    "    learning_rate=8.0, num_iterations=3000, optimizer=tf.train.AdagradOptimizer\n",
    ")"
   ]
  },
  {
   "cell_type": "markdown",
   "metadata": {
    "id": "-sYjuHxJo4un"
   },
   "source": [
    "### Inspect the embeddings\n",
    "\n",
    "We can inspect the movie embeddings as we did for the previous models. Note that in this case, the movie embeddings are used at the same time as input embeddings (for the bag of words representation of the user history), and as softmax weights."
   ]
  },
  {
   "cell_type": "code",
   "execution_count": null,
   "metadata": {
    "id": "mvJazlnMo4uo"
   },
   "outputs": [],
   "source": [
    "movie_neighbors(softmax_model, \"Aladdin\", DOT)\n",
    "movie_neighbors(softmax_model, \"Aladdin\", COSINE)"
   ]
  },
  {
   "cell_type": "code",
   "execution_count": null,
   "metadata": {
    "id": "ReIP69-9o4ur"
   },
   "outputs": [],
   "source": [
    "movie_embedding_norm([reg_model, softmax_model])"
   ]
  },
  {
   "cell_type": "code",
   "execution_count": null,
   "metadata": {
    "id": "Trq0yYrXo4us"
   },
   "outputs": [],
   "source": [
    "tsne_movie_embeddings(softmax_model)"
   ]
  },
  {
   "cell_type": "markdown",
   "metadata": {
    "id": "fZkZJ8yco4uu"
   },
   "source": [
    "## Congratulations!\n",
    "\n",
    "You have completed this Colab notebook.\n",
    "\n",
    "If you would like to further explore these models, we encourage you to try different hyperparameters and observe how this affects the quality of the model and the structure of the embedding space. Here are some suggestions:\n",
    "- Change the embedding dimension.\n",
    "- In the softmax model: change the number of hidden layers, and the input features. For example, you can try a model with no hidden layers, and only the movie ids as inputs.\n",
    "- Using other similarity measures: In this Colab notebook, we used dot product $d(u, V_j) = \\langle u, V_j \\rangle$ and cosine $d(u, V_j) = \\frac{\\langle u, V_j \\rangle}{\\|u\\|\\|V_j\\|}$, and discussed how the norms of the embeddings affect the recommendations. You can also try other variants which apply a transformation to the norm, for example $d(u, V_j) = \\frac{\\langle u, V_j \\rangle}{\\|V_j\\|^\\alpha}$."
   ]
  }
 ],
 "metadata": {
  "accelerator": "GPU",
  "colab": {
   "collapsed_sections": [
    "9EjQt_o9Xf_L"
   ],
   "name": "Recommendation Systems Colab",
   "provenance": [],
   "toc_visible": true
  },
  "kernelspec": {
   "display_name": "Python 3 (ipykernel)",
   "language": "python",
   "name": "python3"
  },
  "language_info": {
   "codemirror_mode": {
    "name": "ipython",
    "version": 3
   },
   "file_extension": ".py",
   "mimetype": "text/x-python",
   "name": "python",
   "nbconvert_exporter": "python",
   "pygments_lexer": "ipython3",
   "version": "3.10.9"
  }
 },
 "nbformat": 4,
 "nbformat_minor": 4
}
